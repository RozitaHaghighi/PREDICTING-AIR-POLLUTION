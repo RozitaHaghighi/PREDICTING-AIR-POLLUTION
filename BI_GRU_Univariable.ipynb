{
  "nbformat": 4,
  "nbformat_minor": 0,
  "metadata": {
    "colab": {
      "provenance": []
    },
    "kernelspec": {
      "name": "python3",
      "display_name": "Python 3"
    },
    "language_info": {
      "name": "python"
    }
  },
  "cells": [
    {
      "cell_type": "code",
      "execution_count": null,
      "metadata": {
        "id": "QjC4IOnMbSIC"
      },
      "outputs": [],
      "source": [
        "import pandas as pd\n",
        "import numpy as np\n",
        "import matplotlib as plt\n",
        "import seaborn as sns\n",
        "from sklearn import linear_model, metrics\n",
        "from sklearn.metrics import confusion_matrix, precision_score, recall_score\n",
        "import pandas as pd\n",
        "import statsmodels.api as sm\n",
        "import matplotlib.pyplot as plt\n",
        "import seaborn as sns\n",
        "from sklearn.preprocessing import MinMaxScaler\n",
        "from sklearn.model_selection import train_test_split\n",
        "\n",
        "from keras import datasets, layers, models\n",
        "\n",
        "\n",
        "from keras.layers import Dense\n",
        "from keras import datasets, layers, models\n",
        "import math\n",
        "\n",
        "from sklearn.cluster import KMeans\n",
        "import tensorflow as tf\n",
        "from keras import layers, datasets, models\n",
        "from keras.models import Sequential\n",
        "from keras.layers import LSTM, Dropout, Dense"
      ]
    },
    {
      "cell_type": "code",
      "source": [
        "df = pd.read_csv(\"/content/Train.csv\")"
      ],
      "metadata": {
        "id": "IfkMs1rEbXpo"
      },
      "execution_count": null,
      "outputs": []
    },
    {
      "cell_type": "code",
      "source": [
        "df.dropna(subset=['PM2.5'], inplace=True)"
      ],
      "metadata": {
        "id": "l_zHMPRObYRO"
      },
      "execution_count": null,
      "outputs": []
    },
    {
      "cell_type": "code",
      "source": [
        "df.head()"
      ],
      "metadata": {
        "colab": {
          "base_uri": "https://localhost:8080/",
          "height": 206
        },
        "id": "icToeJMNbcTY",
        "outputId": "fe144a69-4a3f-483f-8a38-c02a35b3081e"
      },
      "execution_count": null,
      "outputs": [
        {
          "output_type": "execute_result",
          "data": {
            "text/plain": [
              "   No  year  month  day  hour  PM2.5  PM10   SO2   NO2     CO    O3  TEMP  \\\n",
              "0   1  2013      3    1     0    4.0   4.0   4.0   7.0  300.0  77.0  -0.7   \n",
              "1   2  2013      3    1     1    8.0   8.0   4.0   7.0  300.0  77.0  -1.1   \n",
              "2   3  2013      3    1     2    7.0   7.0   5.0  10.0  300.0  73.0  -1.1   \n",
              "3   4  2013      3    1     3    6.0   6.0  11.0  11.0  300.0  72.0  -1.4   \n",
              "4   5  2013      3    1     4    3.0   3.0  12.0  12.0  300.0  72.0  -2.0   \n",
              "\n",
              "     PRES  DEWP  RAIN   wd  WSPM       station  \n",
              "0  1023.0 -18.8   0.0  NNW   4.4  Aotizhongxin  \n",
              "1  1023.2 -18.2   0.0    N   4.7  Aotizhongxin  \n",
              "2  1023.5 -18.2   0.0  NNW   5.6  Aotizhongxin  \n",
              "3  1024.5 -19.4   0.0   NW   3.1  Aotizhongxin  \n",
              "4  1025.2 -19.5   0.0    N   2.0  Aotizhongxin  "
            ],
            "text/html": [
              "\n",
              "  <div id=\"df-87e7b4d1-f5ef-48e0-ae52-f2e1bfde15fd\" class=\"colab-df-container\">\n",
              "    <div>\n",
              "<style scoped>\n",
              "    .dataframe tbody tr th:only-of-type {\n",
              "        vertical-align: middle;\n",
              "    }\n",
              "\n",
              "    .dataframe tbody tr th {\n",
              "        vertical-align: top;\n",
              "    }\n",
              "\n",
              "    .dataframe thead th {\n",
              "        text-align: right;\n",
              "    }\n",
              "</style>\n",
              "<table border=\"1\" class=\"dataframe\">\n",
              "  <thead>\n",
              "    <tr style=\"text-align: right;\">\n",
              "      <th></th>\n",
              "      <th>No</th>\n",
              "      <th>year</th>\n",
              "      <th>month</th>\n",
              "      <th>day</th>\n",
              "      <th>hour</th>\n",
              "      <th>PM2.5</th>\n",
              "      <th>PM10</th>\n",
              "      <th>SO2</th>\n",
              "      <th>NO2</th>\n",
              "      <th>CO</th>\n",
              "      <th>O3</th>\n",
              "      <th>TEMP</th>\n",
              "      <th>PRES</th>\n",
              "      <th>DEWP</th>\n",
              "      <th>RAIN</th>\n",
              "      <th>wd</th>\n",
              "      <th>WSPM</th>\n",
              "      <th>station</th>\n",
              "    </tr>\n",
              "  </thead>\n",
              "  <tbody>\n",
              "    <tr>\n",
              "      <th>0</th>\n",
              "      <td>1</td>\n",
              "      <td>2013</td>\n",
              "      <td>3</td>\n",
              "      <td>1</td>\n",
              "      <td>0</td>\n",
              "      <td>4.0</td>\n",
              "      <td>4.0</td>\n",
              "      <td>4.0</td>\n",
              "      <td>7.0</td>\n",
              "      <td>300.0</td>\n",
              "      <td>77.0</td>\n",
              "      <td>-0.7</td>\n",
              "      <td>1023.0</td>\n",
              "      <td>-18.8</td>\n",
              "      <td>0.0</td>\n",
              "      <td>NNW</td>\n",
              "      <td>4.4</td>\n",
              "      <td>Aotizhongxin</td>\n",
              "    </tr>\n",
              "    <tr>\n",
              "      <th>1</th>\n",
              "      <td>2</td>\n",
              "      <td>2013</td>\n",
              "      <td>3</td>\n",
              "      <td>1</td>\n",
              "      <td>1</td>\n",
              "      <td>8.0</td>\n",
              "      <td>8.0</td>\n",
              "      <td>4.0</td>\n",
              "      <td>7.0</td>\n",
              "      <td>300.0</td>\n",
              "      <td>77.0</td>\n",
              "      <td>-1.1</td>\n",
              "      <td>1023.2</td>\n",
              "      <td>-18.2</td>\n",
              "      <td>0.0</td>\n",
              "      <td>N</td>\n",
              "      <td>4.7</td>\n",
              "      <td>Aotizhongxin</td>\n",
              "    </tr>\n",
              "    <tr>\n",
              "      <th>2</th>\n",
              "      <td>3</td>\n",
              "      <td>2013</td>\n",
              "      <td>3</td>\n",
              "      <td>1</td>\n",
              "      <td>2</td>\n",
              "      <td>7.0</td>\n",
              "      <td>7.0</td>\n",
              "      <td>5.0</td>\n",
              "      <td>10.0</td>\n",
              "      <td>300.0</td>\n",
              "      <td>73.0</td>\n",
              "      <td>-1.1</td>\n",
              "      <td>1023.5</td>\n",
              "      <td>-18.2</td>\n",
              "      <td>0.0</td>\n",
              "      <td>NNW</td>\n",
              "      <td>5.6</td>\n",
              "      <td>Aotizhongxin</td>\n",
              "    </tr>\n",
              "    <tr>\n",
              "      <th>3</th>\n",
              "      <td>4</td>\n",
              "      <td>2013</td>\n",
              "      <td>3</td>\n",
              "      <td>1</td>\n",
              "      <td>3</td>\n",
              "      <td>6.0</td>\n",
              "      <td>6.0</td>\n",
              "      <td>11.0</td>\n",
              "      <td>11.0</td>\n",
              "      <td>300.0</td>\n",
              "      <td>72.0</td>\n",
              "      <td>-1.4</td>\n",
              "      <td>1024.5</td>\n",
              "      <td>-19.4</td>\n",
              "      <td>0.0</td>\n",
              "      <td>NW</td>\n",
              "      <td>3.1</td>\n",
              "      <td>Aotizhongxin</td>\n",
              "    </tr>\n",
              "    <tr>\n",
              "      <th>4</th>\n",
              "      <td>5</td>\n",
              "      <td>2013</td>\n",
              "      <td>3</td>\n",
              "      <td>1</td>\n",
              "      <td>4</td>\n",
              "      <td>3.0</td>\n",
              "      <td>3.0</td>\n",
              "      <td>12.0</td>\n",
              "      <td>12.0</td>\n",
              "      <td>300.0</td>\n",
              "      <td>72.0</td>\n",
              "      <td>-2.0</td>\n",
              "      <td>1025.2</td>\n",
              "      <td>-19.5</td>\n",
              "      <td>0.0</td>\n",
              "      <td>N</td>\n",
              "      <td>2.0</td>\n",
              "      <td>Aotizhongxin</td>\n",
              "    </tr>\n",
              "  </tbody>\n",
              "</table>\n",
              "</div>\n",
              "    <div class=\"colab-df-buttons\">\n",
              "\n",
              "  <div class=\"colab-df-container\">\n",
              "    <button class=\"colab-df-convert\" onclick=\"convertToInteractive('df-87e7b4d1-f5ef-48e0-ae52-f2e1bfde15fd')\"\n",
              "            title=\"Convert this dataframe to an interactive table.\"\n",
              "            style=\"display:none;\">\n",
              "\n",
              "  <svg xmlns=\"http://www.w3.org/2000/svg\" height=\"24px\" viewBox=\"0 -960 960 960\">\n",
              "    <path d=\"M120-120v-720h720v720H120Zm60-500h600v-160H180v160Zm220 220h160v-160H400v160Zm0 220h160v-160H400v160ZM180-400h160v-160H180v160Zm440 0h160v-160H620v160ZM180-180h160v-160H180v160Zm440 0h160v-160H620v160Z\"/>\n",
              "  </svg>\n",
              "    </button>\n",
              "\n",
              "  <style>\n",
              "    .colab-df-container {\n",
              "      display:flex;\n",
              "      gap: 12px;\n",
              "    }\n",
              "\n",
              "    .colab-df-convert {\n",
              "      background-color: #E8F0FE;\n",
              "      border: none;\n",
              "      border-radius: 50%;\n",
              "      cursor: pointer;\n",
              "      display: none;\n",
              "      fill: #1967D2;\n",
              "      height: 32px;\n",
              "      padding: 0 0 0 0;\n",
              "      width: 32px;\n",
              "    }\n",
              "\n",
              "    .colab-df-convert:hover {\n",
              "      background-color: #E2EBFA;\n",
              "      box-shadow: 0px 1px 2px rgba(60, 64, 67, 0.3), 0px 1px 3px 1px rgba(60, 64, 67, 0.15);\n",
              "      fill: #174EA6;\n",
              "    }\n",
              "\n",
              "    .colab-df-buttons div {\n",
              "      margin-bottom: 4px;\n",
              "    }\n",
              "\n",
              "    [theme=dark] .colab-df-convert {\n",
              "      background-color: #3B4455;\n",
              "      fill: #D2E3FC;\n",
              "    }\n",
              "\n",
              "    [theme=dark] .colab-df-convert:hover {\n",
              "      background-color: #434B5C;\n",
              "      box-shadow: 0px 1px 3px 1px rgba(0, 0, 0, 0.15);\n",
              "      filter: drop-shadow(0px 1px 2px rgba(0, 0, 0, 0.3));\n",
              "      fill: #FFFFFF;\n",
              "    }\n",
              "  </style>\n",
              "\n",
              "    <script>\n",
              "      const buttonEl =\n",
              "        document.querySelector('#df-87e7b4d1-f5ef-48e0-ae52-f2e1bfde15fd button.colab-df-convert');\n",
              "      buttonEl.style.display =\n",
              "        google.colab.kernel.accessAllowed ? 'block' : 'none';\n",
              "\n",
              "      async function convertToInteractive(key) {\n",
              "        const element = document.querySelector('#df-87e7b4d1-f5ef-48e0-ae52-f2e1bfde15fd');\n",
              "        const dataTable =\n",
              "          await google.colab.kernel.invokeFunction('convertToInteractive',\n",
              "                                                    [key], {});\n",
              "        if (!dataTable) return;\n",
              "\n",
              "        const docLinkHtml = 'Like what you see? Visit the ' +\n",
              "          '<a target=\"_blank\" href=https://colab.research.google.com/notebooks/data_table.ipynb>data table notebook</a>'\n",
              "          + ' to learn more about interactive tables.';\n",
              "        element.innerHTML = '';\n",
              "        dataTable['output_type'] = 'display_data';\n",
              "        await google.colab.output.renderOutput(dataTable, element);\n",
              "        const docLink = document.createElement('div');\n",
              "        docLink.innerHTML = docLinkHtml;\n",
              "        element.appendChild(docLink);\n",
              "      }\n",
              "    </script>\n",
              "  </div>\n",
              "\n",
              "\n",
              "<div id=\"df-d254e6b1-5b85-42a2-8526-f59ab5506967\">\n",
              "  <button class=\"colab-df-quickchart\" onclick=\"quickchart('df-d254e6b1-5b85-42a2-8526-f59ab5506967')\"\n",
              "            title=\"Suggest charts\"\n",
              "            style=\"display:none;\">\n",
              "\n",
              "<svg xmlns=\"http://www.w3.org/2000/svg\" height=\"24px\"viewBox=\"0 0 24 24\"\n",
              "     width=\"24px\">\n",
              "    <g>\n",
              "        <path d=\"M19 3H5c-1.1 0-2 .9-2 2v14c0 1.1.9 2 2 2h14c1.1 0 2-.9 2-2V5c0-1.1-.9-2-2-2zM9 17H7v-7h2v7zm4 0h-2V7h2v10zm4 0h-2v-4h2v4z\"/>\n",
              "    </g>\n",
              "</svg>\n",
              "  </button>\n",
              "\n",
              "<style>\n",
              "  .colab-df-quickchart {\n",
              "      --bg-color: #E8F0FE;\n",
              "      --fill-color: #1967D2;\n",
              "      --hover-bg-color: #E2EBFA;\n",
              "      --hover-fill-color: #174EA6;\n",
              "      --disabled-fill-color: #AAA;\n",
              "      --disabled-bg-color: #DDD;\n",
              "  }\n",
              "\n",
              "  [theme=dark] .colab-df-quickchart {\n",
              "      --bg-color: #3B4455;\n",
              "      --fill-color: #D2E3FC;\n",
              "      --hover-bg-color: #434B5C;\n",
              "      --hover-fill-color: #FFFFFF;\n",
              "      --disabled-bg-color: #3B4455;\n",
              "      --disabled-fill-color: #666;\n",
              "  }\n",
              "\n",
              "  .colab-df-quickchart {\n",
              "    background-color: var(--bg-color);\n",
              "    border: none;\n",
              "    border-radius: 50%;\n",
              "    cursor: pointer;\n",
              "    display: none;\n",
              "    fill: var(--fill-color);\n",
              "    height: 32px;\n",
              "    padding: 0;\n",
              "    width: 32px;\n",
              "  }\n",
              "\n",
              "  .colab-df-quickchart:hover {\n",
              "    background-color: var(--hover-bg-color);\n",
              "    box-shadow: 0 1px 2px rgba(60, 64, 67, 0.3), 0 1px 3px 1px rgba(60, 64, 67, 0.15);\n",
              "    fill: var(--button-hover-fill-color);\n",
              "  }\n",
              "\n",
              "  .colab-df-quickchart-complete:disabled,\n",
              "  .colab-df-quickchart-complete:disabled:hover {\n",
              "    background-color: var(--disabled-bg-color);\n",
              "    fill: var(--disabled-fill-color);\n",
              "    box-shadow: none;\n",
              "  }\n",
              "\n",
              "  .colab-df-spinner {\n",
              "    border: 2px solid var(--fill-color);\n",
              "    border-color: transparent;\n",
              "    border-bottom-color: var(--fill-color);\n",
              "    animation:\n",
              "      spin 1s steps(1) infinite;\n",
              "  }\n",
              "\n",
              "  @keyframes spin {\n",
              "    0% {\n",
              "      border-color: transparent;\n",
              "      border-bottom-color: var(--fill-color);\n",
              "      border-left-color: var(--fill-color);\n",
              "    }\n",
              "    20% {\n",
              "      border-color: transparent;\n",
              "      border-left-color: var(--fill-color);\n",
              "      border-top-color: var(--fill-color);\n",
              "    }\n",
              "    30% {\n",
              "      border-color: transparent;\n",
              "      border-left-color: var(--fill-color);\n",
              "      border-top-color: var(--fill-color);\n",
              "      border-right-color: var(--fill-color);\n",
              "    }\n",
              "    40% {\n",
              "      border-color: transparent;\n",
              "      border-right-color: var(--fill-color);\n",
              "      border-top-color: var(--fill-color);\n",
              "    }\n",
              "    60% {\n",
              "      border-color: transparent;\n",
              "      border-right-color: var(--fill-color);\n",
              "    }\n",
              "    80% {\n",
              "      border-color: transparent;\n",
              "      border-right-color: var(--fill-color);\n",
              "      border-bottom-color: var(--fill-color);\n",
              "    }\n",
              "    90% {\n",
              "      border-color: transparent;\n",
              "      border-bottom-color: var(--fill-color);\n",
              "    }\n",
              "  }\n",
              "</style>\n",
              "\n",
              "  <script>\n",
              "    async function quickchart(key) {\n",
              "      const quickchartButtonEl =\n",
              "        document.querySelector('#' + key + ' button');\n",
              "      quickchartButtonEl.disabled = true;  // To prevent multiple clicks.\n",
              "      quickchartButtonEl.classList.add('colab-df-spinner');\n",
              "      try {\n",
              "        const charts = await google.colab.kernel.invokeFunction(\n",
              "            'suggestCharts', [key], {});\n",
              "      } catch (error) {\n",
              "        console.error('Error during call to suggestCharts:', error);\n",
              "      }\n",
              "      quickchartButtonEl.classList.remove('colab-df-spinner');\n",
              "      quickchartButtonEl.classList.add('colab-df-quickchart-complete');\n",
              "    }\n",
              "    (() => {\n",
              "      let quickchartButtonEl =\n",
              "        document.querySelector('#df-d254e6b1-5b85-42a2-8526-f59ab5506967 button');\n",
              "      quickchartButtonEl.style.display =\n",
              "        google.colab.kernel.accessAllowed ? 'block' : 'none';\n",
              "    })();\n",
              "  </script>\n",
              "</div>\n",
              "\n",
              "    </div>\n",
              "  </div>\n"
            ],
            "application/vnd.google.colaboratory.intrinsic+json": {
              "type": "dataframe",
              "variable_name": "df",
              "summary": "{\n  \"name\": \"df\",\n  \"rows\": 27233,\n  \"fields\": [\n    {\n      \"column\": \"No\",\n      \"properties\": {\n        \"dtype\": \"number\",\n        \"std\": 8155,\n        \"min\": 1,\n        \"max\": 28051,\n        \"num_unique_values\": 27233,\n        \"samples\": [\n          22603,\n          3553,\n          2278\n        ],\n        \"semantic_type\": \"\",\n        \"description\": \"\"\n      }\n    },\n    {\n      \"column\": \"year\",\n      \"properties\": {\n        \"dtype\": \"number\",\n        \"std\": 0,\n        \"min\": 2013,\n        \"max\": 2016,\n        \"num_unique_values\": 4,\n        \"samples\": [\n          2014,\n          2016,\n          2013\n        ],\n        \"semantic_type\": \"\",\n        \"description\": \"\"\n      }\n    },\n    {\n      \"column\": \"month\",\n      \"properties\": {\n        \"dtype\": \"number\",\n        \"std\": 3,\n        \"min\": 1,\n        \"max\": 12,\n        \"num_unique_values\": 12,\n        \"samples\": [\n          1,\n          12,\n          3\n        ],\n        \"semantic_type\": \"\",\n        \"description\": \"\"\n      }\n    },\n    {\n      \"column\": \"day\",\n      \"properties\": {\n        \"dtype\": \"number\",\n        \"std\": 8,\n        \"min\": 1,\n        \"max\": 31,\n        \"num_unique_values\": 31,\n        \"samples\": [\n          28,\n          16,\n          24\n        ],\n        \"semantic_type\": \"\",\n        \"description\": \"\"\n      }\n    },\n    {\n      \"column\": \"hour\",\n      \"properties\": {\n        \"dtype\": \"number\",\n        \"std\": 6,\n        \"min\": 0,\n        \"max\": 23,\n        \"num_unique_values\": 24,\n        \"samples\": [\n          8,\n          16,\n          0\n        ],\n        \"semantic_type\": \"\",\n        \"description\": \"\"\n      }\n    },\n    {\n      \"column\": \"PM2.5\",\n      \"properties\": {\n        \"dtype\": \"number\",\n        \"std\": 81.64160774749772,\n        \"min\": 3.0,\n        \"max\": 898.0,\n        \"num_unique_values\": 521,\n        \"samples\": [\n          382.0,\n          266.0,\n          9.0\n        ],\n        \"semantic_type\": \"\",\n        \"description\": \"\"\n      }\n    },\n    {\n      \"column\": \"PM10\",\n      \"properties\": {\n        \"dtype\": \"number\",\n        \"std\": 96.3717427851201,\n        \"min\": 2.0,\n        \"max\": 984.0,\n        \"num_unique_values\": 616,\n        \"samples\": [\n          186.0,\n          179.0,\n          567.0\n        ],\n        \"semantic_type\": \"\",\n        \"description\": \"\"\n      }\n    },\n    {\n      \"column\": \"SO2\",\n      \"properties\": {\n        \"dtype\": \"number\",\n        \"std\": 24.327772873592732,\n        \"min\": 0.2856,\n        \"max\": 341.0,\n        \"num_unique_values\": 329,\n        \"samples\": [\n          8.0,\n          65.1168,\n          132.0\n        ],\n        \"semantic_type\": \"\",\n        \"description\": \"\"\n      }\n    },\n    {\n      \"column\": \"NO2\",\n      \"properties\": {\n        \"dtype\": \"number\",\n        \"std\": 36.79304098354317,\n        \"min\": 2.0,\n        \"max\": 290.0,\n        \"num_unique_values\": 462,\n        \"samples\": [\n          65.9013,\n          63.0,\n          99.0\n        ],\n        \"semantic_type\": \"\",\n        \"description\": \"\"\n      }\n    },\n    {\n      \"column\": \"CO\",\n      \"properties\": {\n        \"dtype\": \"number\",\n        \"std\": 1183.0032370181857,\n        \"min\": 100.0,\n        \"max\": 10000.0,\n        \"num_unique_values\": 111,\n        \"samples\": [\n          7700.0,\n          1300.0,\n          700.0\n        ],\n        \"semantic_type\": \"\",\n        \"description\": \"\"\n      }\n    },\n    {\n      \"column\": \"O3\",\n      \"properties\": {\n        \"dtype\": \"number\",\n        \"std\": 56.2993838618953,\n        \"min\": 0.2142,\n        \"max\": 423.0,\n        \"num_unique_values\": 820,\n        \"samples\": [\n          37.485,\n          262.0,\n          65.0\n        ],\n        \"semantic_type\": \"\",\n        \"description\": \"\"\n      }\n    },\n    {\n      \"column\": \"TEMP\",\n      \"properties\": {\n        \"dtype\": \"number\",\n        \"std\": 11.14686977482962,\n        \"min\": -16.8,\n        \"max\": 40.5,\n        \"num_unique_values\": 532,\n        \"samples\": [\n          -1.6,\n          38.8,\n          18.6\n        ],\n        \"semantic_type\": \"\",\n        \"description\": \"\"\n      }\n    },\n    {\n      \"column\": \"PRES\",\n      \"properties\": {\n        \"dtype\": \"number\",\n        \"std\": 10.239408850413707,\n        \"min\": 985.9,\n        \"max\": 1042.0,\n        \"num_unique_values\": 528,\n        \"samples\": [\n          1018.7,\n          1021.4,\n          1026.5\n        ],\n        \"semantic_type\": \"\",\n        \"description\": \"\"\n      }\n    },\n    {\n      \"column\": \"DEWP\",\n      \"properties\": {\n        \"dtype\": \"number\",\n        \"std\": 13.553534175369771,\n        \"min\": -35.3,\n        \"max\": 28.5,\n        \"num_unique_values\": 603,\n        \"samples\": [\n          -2.1,\n          -26.5,\n          -30.0\n        ],\n        \"semantic_type\": \"\",\n        \"description\": \"\"\n      }\n    },\n    {\n      \"column\": \"RAIN\",\n      \"properties\": {\n        \"dtype\": \"number\",\n        \"std\": 0.8677310797422134,\n        \"min\": 0.0,\n        \"max\": 72.5,\n        \"num_unique_values\": 108,\n        \"samples\": [\n          8.0,\n          1.0,\n          0.2\n        ],\n        \"semantic_type\": \"\",\n        \"description\": \"\"\n      }\n    },\n    {\n      \"column\": \"wd\",\n      \"properties\": {\n        \"dtype\": \"category\",\n        \"num_unique_values\": 16,\n        \"samples\": [\n          \"NNW\",\n          \"N\",\n          \"E\"\n        ],\n        \"semantic_type\": \"\",\n        \"description\": \"\"\n      }\n    },\n    {\n      \"column\": \"WSPM\",\n      \"properties\": {\n        \"dtype\": \"number\",\n        \"std\": 1.2310307378957999,\n        \"min\": 0.0,\n        \"max\": 11.2,\n        \"num_unique_values\": 89,\n        \"samples\": [\n          4.5,\n          4.0,\n          5.9\n        ],\n        \"semantic_type\": \"\",\n        \"description\": \"\"\n      }\n    },\n    {\n      \"column\": \"station\",\n      \"properties\": {\n        \"dtype\": \"category\",\n        \"num_unique_values\": 1,\n        \"samples\": [\n          \"Aotizhongxin\"\n        ],\n        \"semantic_type\": \"\",\n        \"description\": \"\"\n      }\n    }\n  ]\n}"
            }
          },
          "metadata": {},
          "execution_count": 5
        }
      ]
    },
    {
      "cell_type": "code",
      "source": [
        "training_set = df.iloc[:, 5:6].values\n",
        "len(training_set)"
      ],
      "metadata": {
        "colab": {
          "base_uri": "https://localhost:8080/"
        },
        "id": "hyurDDoCbdAd",
        "outputId": "05d3fa12-5e09-4486-f955-201af25676aa"
      },
      "execution_count": null,
      "outputs": [
        {
          "output_type": "execute_result",
          "data": {
            "text/plain": [
              "27233"
            ]
          },
          "metadata": {},
          "execution_count": 6
        }
      ]
    },
    {
      "cell_type": "code",
      "source": [
        "training_set = training_set[-5000:]"
      ],
      "metadata": {
        "id": "89WZreb3bfHU"
      },
      "execution_count": null,
      "outputs": []
    },
    {
      "cell_type": "code",
      "source": [
        "training_set.shape"
      ],
      "metadata": {
        "colab": {
          "base_uri": "https://localhost:8080/"
        },
        "id": "bdUGZFrBbi_I",
        "outputId": "bbfd5c6d-1580-4a65-d9b0-c45d8cd4a0dd"
      },
      "execution_count": null,
      "outputs": [
        {
          "output_type": "execute_result",
          "data": {
            "text/plain": [
              "(5000, 1)"
            ]
          },
          "metadata": {},
          "execution_count": 8
        }
      ]
    },
    {
      "cell_type": "code",
      "source": [
        "# normalize your data for BiGRU\n",
        "sc = MinMaxScaler(feature_range = (0,1))\n",
        "training_set_scaled = sc.fit_transform(training_set)"
      ],
      "metadata": {
        "id": "wFt1754abk-A"
      },
      "execution_count": null,
      "outputs": []
    },
    {
      "cell_type": "code",
      "source": [
        "lag = 48  # Number of hours to use as input to predict the next hour.\n",
        "n_obs = 5000  # Total number of hourly observations in your training set.\n",
        "\n",
        "X_train = []\n",
        "y_train = []\n",
        "\n",
        "for i in range(lag, n_obs):\n",
        "    X_train.append(training_set_scaled[i-lag:i, 0])  # The previous 48 hours' data.2 days\n",
        "    y_train.append(training_set_scaled[i, 0])  # The current hour's data to predict.\n",
        "\n",
        "# Convert lists to numpy arrays for training the BiGRU.\n",
        "X_train, y_train = np.array(X_train), np.array(y_train)\n",
        "\n",
        "# Check the shape of X_train to understand the dimensions of the input data.\n",
        "X_train.shape"
      ],
      "metadata": {
        "colab": {
          "base_uri": "https://localhost:8080/"
        },
        "id": "6tZ74AmHbloE",
        "outputId": "8f36d278-03d5-4fae-b157-b60a03ce28aa"
      },
      "execution_count": null,
      "outputs": [
        {
          "output_type": "execute_result",
          "data": {
            "text/plain": [
              "(4952, 48)"
            ]
          },
          "metadata": {},
          "execution_count": 10
        }
      ]
    },
    {
      "cell_type": "code",
      "source": [
        "# specify or add indicators(here 1, ph)\n",
        "# keras documentation-> Recurrent Layers -> Input shape: (batch_size,timesteps,input_dim)\n",
        "batch_size = X_train.shape[0]\n",
        "timesteps = X_train.shape[1]\n",
        "\n",
        "X_train = np.reshape(X_train, (batch_size, timesteps, 1))"
      ],
      "metadata": {
        "id": "zVeji16ucgsx"
      },
      "execution_count": null,
      "outputs": []
    },
    {
      "cell_type": "markdown",
      "source": [
        "Bi GRU"
      ],
      "metadata": {
        "id": "1UIq3PE9cypN"
      }
    },
    {
      "cell_type": "code",
      "source": [
        "from keras.models import Sequential\n",
        "from keras.layers import Bidirectional, GRU, Dropout, Dense\n",
        "from keras.activations import relu\n",
        "\n",
        "model = Sequential()\n",
        "\n",
        "# Adding the first Bi-GRU layer with 200 units and ReLU activation\n",
        "model.add(Bidirectional(GRU(units=200, return_sequences=True, activation='relu'),\n",
        "                        input_shape=(X_train.shape[1], X_train.shape[2])))\n",
        "model.add(Dropout(rate=0.1))\n",
        "\n",
        "# Adding the second Bi-GRU layer with 100 units and ReLU activation\n",
        "model.add(Bidirectional(GRU(units=100, return_sequences=True, activation='relu')))\n",
        "model.add(Dropout(rate=0.1))\n",
        "\n",
        "# Adding the third Bi-GRU layer with 50 units and ReLU activation\n",
        "model.add(Bidirectional(GRU(units=50, return_sequences=True, activation='relu')))\n",
        "model.add(Dropout(rate=0.1))\n",
        "\n",
        "# Adding the last Bi-GRU layer with 50 units and ReLU activation\n",
        "# Typically return_sequences=False is used for the last layer when connecting to a Dense layer for prediction.\n",
        "model.add(Bidirectional(GRU(units=50, activation='relu')))\n",
        "model.add(Dropout(rate=0.1))\n",
        "\n",
        "# Adding the output layer with a single neuron\n",
        "model.add(Dense(units=1))"
      ],
      "metadata": {
        "id": "yc6-W96McjLT"
      },
      "execution_count": null,
      "outputs": []
    },
    {
      "cell_type": "code",
      "source": [
        "model.summary()"
      ],
      "metadata": {
        "colab": {
          "base_uri": "https://localhost:8080/"
        },
        "id": "G8uS9IIucrvB",
        "outputId": "a17eeeee-4c92-4293-b6d2-5d9acd9d680b"
      },
      "execution_count": null,
      "outputs": [
        {
          "output_type": "stream",
          "name": "stdout",
          "text": [
            "Model: \"sequential\"\n",
            "_________________________________________________________________\n",
            " Layer (type)                Output Shape              Param #   \n",
            "=================================================================\n",
            " bidirectional (Bidirection  (None, 48, 400)           243600    \n",
            " al)                                                             \n",
            "                                                                 \n",
            " dropout (Dropout)           (None, 48, 400)           0         \n",
            "                                                                 \n",
            " bidirectional_1 (Bidirecti  (None, 48, 200)           301200    \n",
            " onal)                                                           \n",
            "                                                                 \n",
            " dropout_1 (Dropout)         (None, 48, 200)           0         \n",
            "                                                                 \n",
            " bidirectional_2 (Bidirecti  (None, 48, 100)           75600     \n",
            " onal)                                                           \n",
            "                                                                 \n",
            " dropout_2 (Dropout)         (None, 48, 100)           0         \n",
            "                                                                 \n",
            " bidirectional_3 (Bidirecti  (None, 100)               45600     \n",
            " onal)                                                           \n",
            "                                                                 \n",
            " dropout_3 (Dropout)         (None, 100)               0         \n",
            "                                                                 \n",
            " dense (Dense)               (None, 1)                 101       \n",
            "                                                                 \n",
            "=================================================================\n",
            "Total params: 666101 (2.54 MB)\n",
            "Trainable params: 666101 (2.54 MB)\n",
            "Non-trainable params: 0 (0.00 Byte)\n",
            "_________________________________________________________________\n"
          ]
        }
      ]
    },
    {
      "cell_type": "markdown",
      "source": [
        "Fitting the BI GRU to the Training set"
      ],
      "metadata": {
        "id": "d8W3un7Vc3xo"
      }
    },
    {
      "cell_type": "code",
      "source": [
        "# Compiling the BiGRU\n",
        "model.compile(optimizer = 'adam', loss = 'mean_squared_error')\n",
        "# Fitting\n",
        "model.fit(X_train, y_train, epochs=50, batch_size=32)"
      ],
      "metadata": {
        "colab": {
          "base_uri": "https://localhost:8080/"
        },
        "id": "_BexSa9ScuLU",
        "outputId": "f4b954f1-f969-4849-cab6-c69576a30649"
      },
      "execution_count": null,
      "outputs": [
        {
          "output_type": "stream",
          "name": "stdout",
          "text": [
            "Epoch 1/50\n",
            "155/155 [==============================] - 76s 413ms/step - loss: 0.0030\n",
            "Epoch 2/50\n",
            "155/155 [==============================] - 62s 398ms/step - loss: 0.0014\n",
            "Epoch 3/50\n",
            "155/155 [==============================] - 63s 409ms/step - loss: 0.0013\n",
            "Epoch 4/50\n",
            "155/155 [==============================] - 63s 404ms/step - loss: 0.0011\n",
            "Epoch 5/50\n",
            "155/155 [==============================] - 62s 398ms/step - loss: 0.0010\n",
            "Epoch 6/50\n",
            "155/155 [==============================] - 62s 398ms/step - loss: 0.0011\n",
            "Epoch 7/50\n",
            "155/155 [==============================] - 62s 399ms/step - loss: 0.0012\n",
            "Epoch 8/50\n",
            "155/155 [==============================] - 63s 407ms/step - loss: 0.0010\n",
            "Epoch 9/50\n",
            "155/155 [==============================] - 62s 398ms/step - loss: 0.0010\n",
            "Epoch 10/50\n",
            "155/155 [==============================] - 63s 409ms/step - loss: 9.8848e-04\n",
            "Epoch 11/50\n",
            "155/155 [==============================] - 62s 399ms/step - loss: 9.8220e-04\n",
            "Epoch 12/50\n",
            "155/155 [==============================] - 63s 408ms/step - loss: 0.0011\n",
            "Epoch 13/50\n",
            "155/155 [==============================] - 63s 406ms/step - loss: 0.0010\n",
            "Epoch 14/50\n",
            "155/155 [==============================] - 61s 395ms/step - loss: 0.0010\n",
            "Epoch 15/50\n",
            "155/155 [==============================] - 62s 403ms/step - loss: 9.6735e-04\n",
            "Epoch 16/50\n",
            "155/155 [==============================] - 62s 400ms/step - loss: 9.3294e-04\n",
            "Epoch 17/50\n",
            "155/155 [==============================] - 63s 409ms/step - loss: 0.0010\n",
            "Epoch 18/50\n",
            "155/155 [==============================] - 62s 403ms/step - loss: 9.2633e-04\n",
            "Epoch 19/50\n",
            "155/155 [==============================] - 62s 401ms/step - loss: 0.0011\n",
            "Epoch 20/50\n",
            "155/155 [==============================] - 62s 399ms/step - loss: 9.6925e-04\n",
            "Epoch 21/50\n",
            "155/155 [==============================] - 62s 396ms/step - loss: 9.7572e-04\n",
            "Epoch 22/50\n",
            "155/155 [==============================] - 62s 403ms/step - loss: 9.2161e-04\n",
            "Epoch 23/50\n",
            "155/155 [==============================] - 62s 402ms/step - loss: 9.4160e-04\n",
            "Epoch 24/50\n",
            "155/155 [==============================] - 64s 413ms/step - loss: 8.8672e-04\n",
            "Epoch 25/50\n",
            "155/155 [==============================] - 63s 405ms/step - loss: 8.9781e-04\n",
            "Epoch 26/50\n",
            "155/155 [==============================] - 64s 413ms/step - loss: 8.5326e-04\n",
            "Epoch 27/50\n",
            "155/155 [==============================] - 64s 411ms/step - loss: 8.8382e-04\n",
            "Epoch 28/50\n",
            "155/155 [==============================] - 63s 410ms/step - loss: 9.3906e-04\n",
            "Epoch 29/50\n",
            "155/155 [==============================] - 63s 409ms/step - loss: 8.8915e-04\n",
            "Epoch 30/50\n",
            "155/155 [==============================] - 62s 400ms/step - loss: 8.7403e-04\n",
            "Epoch 31/50\n",
            "155/155 [==============================] - 62s 401ms/step - loss: 9.2785e-04\n",
            "Epoch 32/50\n",
            "155/155 [==============================] - 61s 394ms/step - loss: 8.7418e-04\n",
            "Epoch 33/50\n",
            "155/155 [==============================] - 63s 409ms/step - loss: 9.6511e-04\n",
            "Epoch 34/50\n",
            "155/155 [==============================] - 63s 407ms/step - loss: 8.6418e-04\n",
            "Epoch 35/50\n",
            "155/155 [==============================] - 62s 398ms/step - loss: 8.6278e-04\n",
            "Epoch 36/50\n",
            "155/155 [==============================] - 63s 407ms/step - loss: 8.8748e-04\n",
            "Epoch 37/50\n",
            "155/155 [==============================] - 62s 400ms/step - loss: 9.5055e-04\n",
            "Epoch 38/50\n",
            "155/155 [==============================] - 62s 402ms/step - loss: 8.4527e-04\n",
            "Epoch 39/50\n",
            "155/155 [==============================] - 63s 405ms/step - loss: 9.2846e-04\n",
            "Epoch 40/50\n",
            "155/155 [==============================] - 62s 400ms/step - loss: 8.4086e-04\n",
            "Epoch 41/50\n",
            "155/155 [==============================] - 63s 406ms/step - loss: 8.0211e-04\n",
            "Epoch 42/50\n",
            "155/155 [==============================] - 61s 396ms/step - loss: 8.5674e-04\n",
            "Epoch 43/50\n",
            "155/155 [==============================] - 63s 410ms/step - loss: 8.7618e-04\n",
            "Epoch 44/50\n",
            "155/155 [==============================] - 61s 394ms/step - loss: 8.4717e-04\n",
            "Epoch 45/50\n",
            "155/155 [==============================] - 62s 396ms/step - loss: 8.8683e-04\n",
            "Epoch 46/50\n",
            "155/155 [==============================] - 63s 405ms/step - loss: 8.7120e-04\n",
            "Epoch 47/50\n",
            "155/155 [==============================] - 61s 396ms/step - loss: 8.1350e-04\n",
            "Epoch 48/50\n",
            "155/155 [==============================] - 64s 411ms/step - loss: 8.2369e-04\n",
            "Epoch 49/50\n",
            "155/155 [==============================] - 62s 400ms/step - loss: 8.0655e-04\n",
            "Epoch 50/50\n",
            "155/155 [==============================] - 63s 407ms/step - loss: 7.9508e-04\n"
          ]
        },
        {
          "output_type": "execute_result",
          "data": {
            "text/plain": [
              "<keras.src.callbacks.History at 0x7cc7883d0fd0>"
            ]
          },
          "metadata": {},
          "execution_count": 14
        }
      ]
    },
    {
      "cell_type": "markdown",
      "source": [],
      "metadata": {
        "id": "kgYjvIS6c9h1"
      }
    },
    {
      "cell_type": "code",
      "source": [
        "# transform and create sequences for Test data\n",
        "dataset_test = pd.read_csv('/content/Test.csv')"
      ],
      "metadata": {
        "id": "GCUswfMzc7Xq"
      },
      "execution_count": null,
      "outputs": []
    },
    {
      "cell_type": "code",
      "source": [
        "dataset_test.dropna(subset=['PM2.5'], inplace=True)"
      ],
      "metadata": {
        "id": "XaT9wfiUdAFn"
      },
      "execution_count": null,
      "outputs": []
    },
    {
      "cell_type": "code",
      "source": [
        "real_PM2 = dataset_test['PM2.5'].values\n",
        "real_PM2"
      ],
      "metadata": {
        "colab": {
          "base_uri": "https://localhost:8080/"
        },
        "id": "UvCjFVVXdCAX",
        "outputId": "280db4f7-31a5-4369-f9d4-713a35b621a5"
      },
      "execution_count": null,
      "outputs": [
        {
          "output_type": "execute_result",
          "data": {
            "text/plain": [
              "array([10., 26., 11., ..., 16., 21., 19.])"
            ]
          },
          "metadata": {},
          "execution_count": 20
        }
      ]
    },
    {
      "cell_type": "code",
      "source": [
        "# Convert numpy arrays to pandas DataFrames\n",
        "training_set_df = pd.DataFrame(training_set, columns=['PM2.5'])\n",
        "dataset_test_df = pd.DataFrame(dataset_test, columns=['PM2.5'])\n",
        "\n",
        "# Concatenate the two DataFrames along the axis=0 (vertically)\n",
        "data_set_total = pd.concat([training_set_df, dataset_test_df], axis=0)\n",
        "data_set_total"
      ],
      "metadata": {
        "colab": {
          "base_uri": "https://localhost:8080/",
          "height": 424
        },
        "id": "q9Xruj-WdEHB",
        "outputId": "b6152e59-e575-4ef8-cea4-f18d19b80496"
      },
      "execution_count": null,
      "outputs": [
        {
          "output_type": "execute_result",
          "data": {
            "text/plain": [
              "      PM2.5\n",
              "0      21.0\n",
              "1      22.0\n",
              "2      27.0\n",
              "3      26.0\n",
              "4      27.0\n",
              "...     ...\n",
              "7008   12.0\n",
              "7009   13.0\n",
              "7010   16.0\n",
              "7011   21.0\n",
              "7012   19.0\n",
              "\n",
              "[11906 rows x 1 columns]"
            ],
            "text/html": [
              "\n",
              "  <div id=\"df-5c7603c2-b533-4ab1-a406-95eb8098e65c\" class=\"colab-df-container\">\n",
              "    <div>\n",
              "<style scoped>\n",
              "    .dataframe tbody tr th:only-of-type {\n",
              "        vertical-align: middle;\n",
              "    }\n",
              "\n",
              "    .dataframe tbody tr th {\n",
              "        vertical-align: top;\n",
              "    }\n",
              "\n",
              "    .dataframe thead th {\n",
              "        text-align: right;\n",
              "    }\n",
              "</style>\n",
              "<table border=\"1\" class=\"dataframe\">\n",
              "  <thead>\n",
              "    <tr style=\"text-align: right;\">\n",
              "      <th></th>\n",
              "      <th>PM2.5</th>\n",
              "    </tr>\n",
              "  </thead>\n",
              "  <tbody>\n",
              "    <tr>\n",
              "      <th>0</th>\n",
              "      <td>21.0</td>\n",
              "    </tr>\n",
              "    <tr>\n",
              "      <th>1</th>\n",
              "      <td>22.0</td>\n",
              "    </tr>\n",
              "    <tr>\n",
              "      <th>2</th>\n",
              "      <td>27.0</td>\n",
              "    </tr>\n",
              "    <tr>\n",
              "      <th>3</th>\n",
              "      <td>26.0</td>\n",
              "    </tr>\n",
              "    <tr>\n",
              "      <th>4</th>\n",
              "      <td>27.0</td>\n",
              "    </tr>\n",
              "    <tr>\n",
              "      <th>...</th>\n",
              "      <td>...</td>\n",
              "    </tr>\n",
              "    <tr>\n",
              "      <th>7008</th>\n",
              "      <td>12.0</td>\n",
              "    </tr>\n",
              "    <tr>\n",
              "      <th>7009</th>\n",
              "      <td>13.0</td>\n",
              "    </tr>\n",
              "    <tr>\n",
              "      <th>7010</th>\n",
              "      <td>16.0</td>\n",
              "    </tr>\n",
              "    <tr>\n",
              "      <th>7011</th>\n",
              "      <td>21.0</td>\n",
              "    </tr>\n",
              "    <tr>\n",
              "      <th>7012</th>\n",
              "      <td>19.0</td>\n",
              "    </tr>\n",
              "  </tbody>\n",
              "</table>\n",
              "<p>11906 rows × 1 columns</p>\n",
              "</div>\n",
              "    <div class=\"colab-df-buttons\">\n",
              "\n",
              "  <div class=\"colab-df-container\">\n",
              "    <button class=\"colab-df-convert\" onclick=\"convertToInteractive('df-5c7603c2-b533-4ab1-a406-95eb8098e65c')\"\n",
              "            title=\"Convert this dataframe to an interactive table.\"\n",
              "            style=\"display:none;\">\n",
              "\n",
              "  <svg xmlns=\"http://www.w3.org/2000/svg\" height=\"24px\" viewBox=\"0 -960 960 960\">\n",
              "    <path d=\"M120-120v-720h720v720H120Zm60-500h600v-160H180v160Zm220 220h160v-160H400v160Zm0 220h160v-160H400v160ZM180-400h160v-160H180v160Zm440 0h160v-160H620v160ZM180-180h160v-160H180v160Zm440 0h160v-160H620v160Z\"/>\n",
              "  </svg>\n",
              "    </button>\n",
              "\n",
              "  <style>\n",
              "    .colab-df-container {\n",
              "      display:flex;\n",
              "      gap: 12px;\n",
              "    }\n",
              "\n",
              "    .colab-df-convert {\n",
              "      background-color: #E8F0FE;\n",
              "      border: none;\n",
              "      border-radius: 50%;\n",
              "      cursor: pointer;\n",
              "      display: none;\n",
              "      fill: #1967D2;\n",
              "      height: 32px;\n",
              "      padding: 0 0 0 0;\n",
              "      width: 32px;\n",
              "    }\n",
              "\n",
              "    .colab-df-convert:hover {\n",
              "      background-color: #E2EBFA;\n",
              "      box-shadow: 0px 1px 2px rgba(60, 64, 67, 0.3), 0px 1px 3px 1px rgba(60, 64, 67, 0.15);\n",
              "      fill: #174EA6;\n",
              "    }\n",
              "\n",
              "    .colab-df-buttons div {\n",
              "      margin-bottom: 4px;\n",
              "    }\n",
              "\n",
              "    [theme=dark] .colab-df-convert {\n",
              "      background-color: #3B4455;\n",
              "      fill: #D2E3FC;\n",
              "    }\n",
              "\n",
              "    [theme=dark] .colab-df-convert:hover {\n",
              "      background-color: #434B5C;\n",
              "      box-shadow: 0px 1px 3px 1px rgba(0, 0, 0, 0.15);\n",
              "      filter: drop-shadow(0px 1px 2px rgba(0, 0, 0, 0.3));\n",
              "      fill: #FFFFFF;\n",
              "    }\n",
              "  </style>\n",
              "\n",
              "    <script>\n",
              "      const buttonEl =\n",
              "        document.querySelector('#df-5c7603c2-b533-4ab1-a406-95eb8098e65c button.colab-df-convert');\n",
              "      buttonEl.style.display =\n",
              "        google.colab.kernel.accessAllowed ? 'block' : 'none';\n",
              "\n",
              "      async function convertToInteractive(key) {\n",
              "        const element = document.querySelector('#df-5c7603c2-b533-4ab1-a406-95eb8098e65c');\n",
              "        const dataTable =\n",
              "          await google.colab.kernel.invokeFunction('convertToInteractive',\n",
              "                                                    [key], {});\n",
              "        if (!dataTable) return;\n",
              "\n",
              "        const docLinkHtml = 'Like what you see? Visit the ' +\n",
              "          '<a target=\"_blank\" href=https://colab.research.google.com/notebooks/data_table.ipynb>data table notebook</a>'\n",
              "          + ' to learn more about interactive tables.';\n",
              "        element.innerHTML = '';\n",
              "        dataTable['output_type'] = 'display_data';\n",
              "        await google.colab.output.renderOutput(dataTable, element);\n",
              "        const docLink = document.createElement('div');\n",
              "        docLink.innerHTML = docLinkHtml;\n",
              "        element.appendChild(docLink);\n",
              "      }\n",
              "    </script>\n",
              "  </div>\n",
              "\n",
              "\n",
              "<div id=\"df-c039e84f-a1ae-48c8-ae57-07a56ab4f8de\">\n",
              "  <button class=\"colab-df-quickchart\" onclick=\"quickchart('df-c039e84f-a1ae-48c8-ae57-07a56ab4f8de')\"\n",
              "            title=\"Suggest charts\"\n",
              "            style=\"display:none;\">\n",
              "\n",
              "<svg xmlns=\"http://www.w3.org/2000/svg\" height=\"24px\"viewBox=\"0 0 24 24\"\n",
              "     width=\"24px\">\n",
              "    <g>\n",
              "        <path d=\"M19 3H5c-1.1 0-2 .9-2 2v14c0 1.1.9 2 2 2h14c1.1 0 2-.9 2-2V5c0-1.1-.9-2-2-2zM9 17H7v-7h2v7zm4 0h-2V7h2v10zm4 0h-2v-4h2v4z\"/>\n",
              "    </g>\n",
              "</svg>\n",
              "  </button>\n",
              "\n",
              "<style>\n",
              "  .colab-df-quickchart {\n",
              "      --bg-color: #E8F0FE;\n",
              "      --fill-color: #1967D2;\n",
              "      --hover-bg-color: #E2EBFA;\n",
              "      --hover-fill-color: #174EA6;\n",
              "      --disabled-fill-color: #AAA;\n",
              "      --disabled-bg-color: #DDD;\n",
              "  }\n",
              "\n",
              "  [theme=dark] .colab-df-quickchart {\n",
              "      --bg-color: #3B4455;\n",
              "      --fill-color: #D2E3FC;\n",
              "      --hover-bg-color: #434B5C;\n",
              "      --hover-fill-color: #FFFFFF;\n",
              "      --disabled-bg-color: #3B4455;\n",
              "      --disabled-fill-color: #666;\n",
              "  }\n",
              "\n",
              "  .colab-df-quickchart {\n",
              "    background-color: var(--bg-color);\n",
              "    border: none;\n",
              "    border-radius: 50%;\n",
              "    cursor: pointer;\n",
              "    display: none;\n",
              "    fill: var(--fill-color);\n",
              "    height: 32px;\n",
              "    padding: 0;\n",
              "    width: 32px;\n",
              "  }\n",
              "\n",
              "  .colab-df-quickchart:hover {\n",
              "    background-color: var(--hover-bg-color);\n",
              "    box-shadow: 0 1px 2px rgba(60, 64, 67, 0.3), 0 1px 3px 1px rgba(60, 64, 67, 0.15);\n",
              "    fill: var(--button-hover-fill-color);\n",
              "  }\n",
              "\n",
              "  .colab-df-quickchart-complete:disabled,\n",
              "  .colab-df-quickchart-complete:disabled:hover {\n",
              "    background-color: var(--disabled-bg-color);\n",
              "    fill: var(--disabled-fill-color);\n",
              "    box-shadow: none;\n",
              "  }\n",
              "\n",
              "  .colab-df-spinner {\n",
              "    border: 2px solid var(--fill-color);\n",
              "    border-color: transparent;\n",
              "    border-bottom-color: var(--fill-color);\n",
              "    animation:\n",
              "      spin 1s steps(1) infinite;\n",
              "  }\n",
              "\n",
              "  @keyframes spin {\n",
              "    0% {\n",
              "      border-color: transparent;\n",
              "      border-bottom-color: var(--fill-color);\n",
              "      border-left-color: var(--fill-color);\n",
              "    }\n",
              "    20% {\n",
              "      border-color: transparent;\n",
              "      border-left-color: var(--fill-color);\n",
              "      border-top-color: var(--fill-color);\n",
              "    }\n",
              "    30% {\n",
              "      border-color: transparent;\n",
              "      border-left-color: var(--fill-color);\n",
              "      border-top-color: var(--fill-color);\n",
              "      border-right-color: var(--fill-color);\n",
              "    }\n",
              "    40% {\n",
              "      border-color: transparent;\n",
              "      border-right-color: var(--fill-color);\n",
              "      border-top-color: var(--fill-color);\n",
              "    }\n",
              "    60% {\n",
              "      border-color: transparent;\n",
              "      border-right-color: var(--fill-color);\n",
              "    }\n",
              "    80% {\n",
              "      border-color: transparent;\n",
              "      border-right-color: var(--fill-color);\n",
              "      border-bottom-color: var(--fill-color);\n",
              "    }\n",
              "    90% {\n",
              "      border-color: transparent;\n",
              "      border-bottom-color: var(--fill-color);\n",
              "    }\n",
              "  }\n",
              "</style>\n",
              "\n",
              "  <script>\n",
              "    async function quickchart(key) {\n",
              "      const quickchartButtonEl =\n",
              "        document.querySelector('#' + key + ' button');\n",
              "      quickchartButtonEl.disabled = true;  // To prevent multiple clicks.\n",
              "      quickchartButtonEl.classList.add('colab-df-spinner');\n",
              "      try {\n",
              "        const charts = await google.colab.kernel.invokeFunction(\n",
              "            'suggestCharts', [key], {});\n",
              "      } catch (error) {\n",
              "        console.error('Error during call to suggestCharts:', error);\n",
              "      }\n",
              "      quickchartButtonEl.classList.remove('colab-df-spinner');\n",
              "      quickchartButtonEl.classList.add('colab-df-quickchart-complete');\n",
              "    }\n",
              "    (() => {\n",
              "      let quickchartButtonEl =\n",
              "        document.querySelector('#df-c039e84f-a1ae-48c8-ae57-07a56ab4f8de button');\n",
              "      quickchartButtonEl.style.display =\n",
              "        google.colab.kernel.accessAllowed ? 'block' : 'none';\n",
              "    })();\n",
              "  </script>\n",
              "</div>\n",
              "\n",
              "  <div id=\"id_d58490ab-25ac-4098-974c-3d25915a5640\">\n",
              "    <style>\n",
              "      .colab-df-generate {\n",
              "        background-color: #E8F0FE;\n",
              "        border: none;\n",
              "        border-radius: 50%;\n",
              "        cursor: pointer;\n",
              "        display: none;\n",
              "        fill: #1967D2;\n",
              "        height: 32px;\n",
              "        padding: 0 0 0 0;\n",
              "        width: 32px;\n",
              "      }\n",
              "\n",
              "      .colab-df-generate:hover {\n",
              "        background-color: #E2EBFA;\n",
              "        box-shadow: 0px 1px 2px rgba(60, 64, 67, 0.3), 0px 1px 3px 1px rgba(60, 64, 67, 0.15);\n",
              "        fill: #174EA6;\n",
              "      }\n",
              "\n",
              "      [theme=dark] .colab-df-generate {\n",
              "        background-color: #3B4455;\n",
              "        fill: #D2E3FC;\n",
              "      }\n",
              "\n",
              "      [theme=dark] .colab-df-generate:hover {\n",
              "        background-color: #434B5C;\n",
              "        box-shadow: 0px 1px 3px 1px rgba(0, 0, 0, 0.15);\n",
              "        filter: drop-shadow(0px 1px 2px rgba(0, 0, 0, 0.3));\n",
              "        fill: #FFFFFF;\n",
              "      }\n",
              "    </style>\n",
              "    <button class=\"colab-df-generate\" onclick=\"generateWithVariable('data_set_total')\"\n",
              "            title=\"Generate code using this dataframe.\"\n",
              "            style=\"display:none;\">\n",
              "\n",
              "  <svg xmlns=\"http://www.w3.org/2000/svg\" height=\"24px\"viewBox=\"0 0 24 24\"\n",
              "       width=\"24px\">\n",
              "    <path d=\"M7,19H8.4L18.45,9,17,7.55,7,17.6ZM5,21V16.75L18.45,3.32a2,2,0,0,1,2.83,0l1.4,1.43a1.91,1.91,0,0,1,.58,1.4,1.91,1.91,0,0,1-.58,1.4L9.25,21ZM18.45,9,17,7.55Zm-12,3A5.31,5.31,0,0,0,4.9,8.1,5.31,5.31,0,0,0,1,6.5,5.31,5.31,0,0,0,4.9,4.9,5.31,5.31,0,0,0,6.5,1,5.31,5.31,0,0,0,8.1,4.9,5.31,5.31,0,0,0,12,6.5,5.46,5.46,0,0,0,6.5,12Z\"/>\n",
              "  </svg>\n",
              "    </button>\n",
              "    <script>\n",
              "      (() => {\n",
              "      const buttonEl =\n",
              "        document.querySelector('#id_d58490ab-25ac-4098-974c-3d25915a5640 button.colab-df-generate');\n",
              "      buttonEl.style.display =\n",
              "        google.colab.kernel.accessAllowed ? 'block' : 'none';\n",
              "\n",
              "      buttonEl.onclick = () => {\n",
              "        google.colab.notebook.generateWithVariable('data_set_total');\n",
              "      }\n",
              "      })();\n",
              "    </script>\n",
              "  </div>\n",
              "\n",
              "    </div>\n",
              "  </div>\n"
            ],
            "application/vnd.google.colaboratory.intrinsic+json": {
              "type": "dataframe",
              "variable_name": "data_set_total",
              "summary": "{\n  \"name\": \"data_set_total\",\n  \"rows\": 11906,\n  \"fields\": [\n    {\n      \"column\": \"PM2.5\",\n      \"properties\": {\n        \"dtype\": \"number\",\n        \"std\": 92.98738259024707,\n        \"min\": 3.0,\n        \"max\": 898.0,\n        \"num_unique_values\": 507,\n        \"samples\": [\n          221.0,\n          287.0,\n          417.0\n        ],\n        \"semantic_type\": \"\",\n        \"description\": \"\"\n      }\n    }\n  ]\n}"
            }
          },
          "metadata": {},
          "execution_count": 21
        }
      ]
    },
    {
      "cell_type": "code",
      "source": [
        "data_set_total.reset_index(drop=True, inplace=True)"
      ],
      "metadata": {
        "id": "ccDleORSdGja"
      },
      "execution_count": null,
      "outputs": []
    },
    {
      "cell_type": "code",
      "source": [
        "\n",
        "inputs = data_set_total[len(data_set_total)- len(dataset_test) - 48:].values\n",
        "# reshape inputs to get a numpy array with rows and one column\n",
        "inputs = inputs.reshape(-1,1)\n",
        "# scale inputs (like what we did with training set)\n",
        "inputs = sc.transform(inputs)\n",
        "X_test = []\n",
        "# test set contains 7012 observations\n",
        "for i in range (48,inputs.shape[0]):\n",
        "  X_test.append(inputs[i-48:i,0])\n",
        "X_test = np.array(X_test)\n",
        "X_test = np.reshape(X_test, (X_test.shape[0], timesteps, 1))"
      ],
      "metadata": {
        "id": "OIx0EqsKdIdY"
      },
      "execution_count": null,
      "outputs": []
    },
    {
      "cell_type": "code",
      "source": [
        "X_test.shape"
      ],
      "metadata": {
        "colab": {
          "base_uri": "https://localhost:8080/"
        },
        "id": "-0vdgUHWdK5_",
        "outputId": "840bfe15-9f49-4184-b8a9-975d51795633"
      },
      "execution_count": null,
      "outputs": [
        {
          "output_type": "execute_result",
          "data": {
            "text/plain": [
              "(6906, 48, 1)"
            ]
          },
          "metadata": {},
          "execution_count": 24
        }
      ]
    },
    {
      "cell_type": "code",
      "source": [
        "pred_PM2 = model.predict(X_test)\n",
        "pred_PM2"
      ],
      "metadata": {
        "colab": {
          "base_uri": "https://localhost:8080/"
        },
        "id": "97c3SPFUdNhH",
        "outputId": "0d6107aa-e52c-45c9-8daf-10a496c8f6ca"
      },
      "execution_count": null,
      "outputs": [
        {
          "output_type": "stream",
          "name": "stdout",
          "text": [
            "216/216 [==============================] - 30s 133ms/step\n"
          ]
        },
        {
          "output_type": "execute_result",
          "data": {
            "text/plain": [
              "array([[0.0119371 ],\n",
              "       [0.01148207],\n",
              "       [0.02303588],\n",
              "       ...,\n",
              "       [0.01202379],\n",
              "       [0.01417445],\n",
              "       [0.0189066 ]], dtype=float32)"
            ]
          },
          "metadata": {},
          "execution_count": 25
        }
      ]
    },
    {
      "cell_type": "code",
      "source": [
        "pred_PM2 = model.predict(X_test)\n",
        "# rescale to original format\n",
        "pred_PM2 = sc.inverse_transform(pred_PM2)\n",
        "RMSE = np.sqrt(np.mean((pred_PM2 - real_PM2)**2))\n",
        "RMSE"
      ],
      "metadata": {
        "colab": {
          "base_uri": "https://localhost:8080/"
        },
        "id": "_yHm3NledPZi",
        "outputId": "bb8c0471-c7fd-454d-e64a-9ad9f75e421e"
      },
      "execution_count": null,
      "outputs": [
        {
          "output_type": "stream",
          "name": "stdout",
          "text": [
            "216/216 [==============================] - 30s 140ms/step\n"
          ]
        },
        {
          "output_type": "execute_result",
          "data": {
            "text/plain": [
              "120.65161143525268"
            ]
          },
          "metadata": {},
          "execution_count": 26
        }
      ]
    },
    {
      "cell_type": "code",
      "source": [
        "from sklearn.metrics import mean_squared_error, mean_absolute_error, r2_score\n",
        "\n",
        "# Calculate RMSE\n",
        "rmse = np.sqrt(mean_squared_error(real_PM2, pred_PM2))\n",
        "\n",
        "# Calculate MAE\n",
        "mae = mean_absolute_error(real_PM2, pred_PM2)\n",
        "\n",
        "# Calculate MSE\n",
        "mse = mean_squared_error(real_PM2, pred_PM2)\n",
        "\n",
        "# Calculate MAPE - Note: You have to ensure real_PM2 does not contain zeros to avoid division by zero\n",
        "mape = np.mean(np.abs((real_PM2 - pred_PM2) / real_PM2)) * 100\n",
        "\n",
        "# Calculate R-squared\n",
        "r2 = r2_score(real_PM2, pred_PM2)\n",
        "\n",
        "# Print the results\n",
        "print('RMSE: {:.4f}'.format(rmse))\n",
        "print('MAE: {:.4f}'.format(mae))\n",
        "print('MSE: {:.4f}'.format(mse))\n",
        "print('MAPE: {:.4f}%'.format(mape))\n",
        "print('R-squared: {:.4f}'.format(r2))"
      ],
      "metadata": {
        "colab": {
          "base_uri": "https://localhost:8080/"
        },
        "id": "pgfi-79TdRof",
        "outputId": "88041828-f956-4be8-ee83-28ab730044c1"
      },
      "execution_count": null,
      "outputs": [
        {
          "output_type": "stream",
          "name": "stdout",
          "text": [
            "RMSE: 19.2041\n",
            "MAE: 10.5903\n",
            "MSE: 368.7981\n",
            "MAPE: 304.1861%\n",
            "R-squared: 0.9477\n"
          ]
        }
      ]
    },
    {
      "cell_type": "code",
      "source": [
        "plt.plot(real_PM2, color = 'red', label = 'Real')\n",
        "plt.plot(pred_PM2, color = 'blue', label = 'Predicted')\n",
        "plt.title('Prediction-BI GRU')\n",
        "plt.xlabel('Time')\n",
        "plt.ylabel('Air-Polution')\n",
        "plt.legend()\n",
        "plt.show()"
      ],
      "metadata": {
        "colab": {
          "base_uri": "https://localhost:8080/",
          "height": 472
        },
        "id": "VNeBye_0dWB_",
        "outputId": "63915636-73ac-4414-f7c6-d781933410f0"
      },
      "execution_count": null,
      "outputs": [
        {
          "output_type": "display_data",
          "data": {
            "text/plain": [
              "<Figure size 640x480 with 1 Axes>"
            ],
            "image/png": "[encoded data removed]"
          },
          "metadata": {}
        }
      ]
    }
  ]
}