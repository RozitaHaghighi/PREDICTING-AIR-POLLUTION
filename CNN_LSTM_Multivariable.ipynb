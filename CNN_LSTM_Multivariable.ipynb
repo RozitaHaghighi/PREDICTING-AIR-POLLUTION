{
  "nbformat": 4,
  "nbformat_minor": 0,
  "metadata": {
    "colab": {
      "provenance": []
    },
    "kernelspec": {
      "name": "python3",
      "display_name": "Python 3"
    },
    "language_info": {
      "name": "python"
    }
  },
  "cells": [
    {
      "cell_type": "code",
      "execution_count": null,
      "metadata": {
        "id": "iMvK5VkynhcC"
      },
      "outputs": [],
      "source": [
        "import pandas as pd\n",
        "import numpy as np\n",
        "import matplotlib as plt\n",
        "import seaborn as sns\n",
        "from sklearn import linear_model, metrics\n",
        "from sklearn.metrics import confusion_matrix, precision_score, recall_score\n",
        "import pandas as pd\n",
        "import statsmodels.api as sm\n",
        "import matplotlib.pyplot as plt\n",
        "import seaborn as sns\n",
        "from sklearn.preprocessing import MinMaxScaler\n",
        "from sklearn.model_selection import train_test_split\n",
        "\n",
        "from keras import datasets, layers, models\n",
        "\n",
        "\n",
        "from keras.layers import Dense\n",
        "from keras import datasets, layers, models\n",
        "import math\n",
        "\n",
        "from sklearn.cluster import KMeans\n",
        "import tensorflow as tf\n",
        "from keras import layers, datasets, models\n",
        "from keras.models import Sequential\n",
        "from keras.layers import LSTM, Dropout, Dense\n",
        "\n"
      ]
    },
    {
      "cell_type": "code",
      "source": [
        "df = pd.read_csv(\"/content/Train.csv\")"
      ],
      "metadata": {
        "id": "cEaM8IHAnh9y"
      },
      "execution_count": null,
      "outputs": []
    },
    {
      "cell_type": "code",
      "source": [
        "# df.dropna(subset=['PM2.5'], inplace=True)\n",
        "features = ['PM2.5', 'TEMP', 'NO2', 'SO2', 'DEWP', 'O3', 'WSPM', 'RAIN']\n",
        "df.dropna(subset=features, inplace=True)"
      ],
      "metadata": {
        "id": "TRBnDEsxKZHY"
      },
      "execution_count": null,
      "outputs": []
    },
    {
      "cell_type": "code",
      "source": [
        "df.head()"
      ],
      "metadata": {
        "colab": {
          "base_uri": "https://localhost:8080/",
          "height": 206
        },
        "id": "SKgTlqo4_6o6",
        "outputId": "1b7ab5cd-7a28-4f25-a867-c8abc2ddffc2"
      },
      "execution_count": null,
      "outputs": [
        {
          "output_type": "execute_result",
          "data": {
            "text/plain": [
              "   No  year  month  day  hour  PM2.5  PM10   SO2   NO2     CO    O3  TEMP  \\\n",
              "0   1  2013      3    1     0    4.0   4.0   4.0   7.0  300.0  77.0  -0.7   \n",
              "1   2  2013      3    1     1    8.0   8.0   4.0   7.0  300.0  77.0  -1.1   \n",
              "2   3  2013      3    1     2    7.0   7.0   5.0  10.0  300.0  73.0  -1.1   \n",
              "3   4  2013      3    1     3    6.0   6.0  11.0  11.0  300.0  72.0  -1.4   \n",
              "4   5  2013      3    1     4    3.0   3.0  12.0  12.0  300.0  72.0  -2.0   \n",
              "\n",
              "     PRES  DEWP  RAIN   wd  WSPM       station  \n",
              "0  1023.0 -18.8   0.0  NNW   4.4  Aotizhongxin  \n",
              "1  1023.2 -18.2   0.0    N   4.7  Aotizhongxin  \n",
              "2  1023.5 -18.2   0.0  NNW   5.6  Aotizhongxin  \n",
              "3  1024.5 -19.4   0.0   NW   3.1  Aotizhongxin  \n",
              "4  1025.2 -19.5   0.0    N   2.0  Aotizhongxin  "
            ],
            "text/html": [
              "\n",
              "  <div id=\"df-d4ce0121-ad77-491c-aec3-fb6194e425c3\" class=\"colab-df-container\">\n",
              "    <div>\n",
              "<style scoped>\n",
              "    .dataframe tbody tr th:only-of-type {\n",
              "        vertical-align: middle;\n",
              "    }\n",
              "\n",
              "    .dataframe tbody tr th {\n",
              "        vertical-align: top;\n",
              "    }\n",
              "\n",
              "    .dataframe thead th {\n",
              "        text-align: right;\n",
              "    }\n",
              "</style>\n",
              "<table border=\"1\" class=\"dataframe\">\n",
              "  <thead>\n",
              "    <tr style=\"text-align: right;\">\n",
              "      <th></th>\n",
              "      <th>No</th>\n",
              "      <th>year</th>\n",
              "      <th>month</th>\n",
              "      <th>day</th>\n",
              "      <th>hour</th>\n",
              "      <th>PM2.5</th>\n",
              "      <th>PM10</th>\n",
              "      <th>SO2</th>\n",
              "      <th>NO2</th>\n",
              "      <th>CO</th>\n",
              "      <th>O3</th>\n",
              "      <th>TEMP</th>\n",
              "      <th>PRES</th>\n",
              "      <th>DEWP</th>\n",
              "      <th>RAIN</th>\n",
              "      <th>wd</th>\n",
              "      <th>WSPM</th>\n",
              "      <th>station</th>\n",
              "    </tr>\n",
              "  </thead>\n",
              "  <tbody>\n",
              "    <tr>\n",
              "      <th>0</th>\n",
              "      <td>1</td>\n",
              "      <td>2013</td>\n",
              "      <td>3</td>\n",
              "      <td>1</td>\n",
              "      <td>0</td>\n",
              "      <td>4.0</td>\n",
              "      <td>4.0</td>\n",
              "      <td>4.0</td>\n",
              "      <td>7.0</td>\n",
              "      <td>300.0</td>\n",
              "      <td>77.0</td>\n",
              "      <td>-0.7</td>\n",
              "      <td>1023.0</td>\n",
              "      <td>-18.8</td>\n",
              "      <td>0.0</td>\n",
              "      <td>NNW</td>\n",
              "      <td>4.4</td>\n",
              "      <td>Aotizhongxin</td>\n",
              "    </tr>\n",
              "    <tr>\n",
              "      <th>1</th>\n",
              "      <td>2</td>\n",
              "      <td>2013</td>\n",
              "      <td>3</td>\n",
              "      <td>1</td>\n",
              "      <td>1</td>\n",
              "      <td>8.0</td>\n",
              "      <td>8.0</td>\n",
              "      <td>4.0</td>\n",
              "      <td>7.0</td>\n",
              "      <td>300.0</td>\n",
              "      <td>77.0</td>\n",
              "      <td>-1.1</td>\n",
              "      <td>1023.2</td>\n",
              "      <td>-18.2</td>\n",
              "      <td>0.0</td>\n",
              "      <td>N</td>\n",
              "      <td>4.7</td>\n",
              "      <td>Aotizhongxin</td>\n",
              "    </tr>\n",
              "    <tr>\n",
              "      <th>2</th>\n",
              "      <td>3</td>\n",
              "      <td>2013</td>\n",
              "      <td>3</td>\n",
              "      <td>1</td>\n",
              "      <td>2</td>\n",
              "      <td>7.0</td>\n",
              "      <td>7.0</td>\n",
              "      <td>5.0</td>\n",
              "      <td>10.0</td>\n",
              "      <td>300.0</td>\n",
              "      <td>73.0</td>\n",
              "      <td>-1.1</td>\n",
              "      <td>1023.5</td>\n",
              "      <td>-18.2</td>\n",
              "      <td>0.0</td>\n",
              "      <td>NNW</td>\n",
              "      <td>5.6</td>\n",
              "      <td>Aotizhongxin</td>\n",
              "    </tr>\n",
              "    <tr>\n",
              "      <th>3</th>\n",
              "      <td>4</td>\n",
              "      <td>2013</td>\n",
              "      <td>3</td>\n",
              "      <td>1</td>\n",
              "      <td>3</td>\n",
              "      <td>6.0</td>\n",
              "      <td>6.0</td>\n",
              "      <td>11.0</td>\n",
              "      <td>11.0</td>\n",
              "      <td>300.0</td>\n",
              "      <td>72.0</td>\n",
              "      <td>-1.4</td>\n",
              "      <td>1024.5</td>\n",
              "      <td>-19.4</td>\n",
              "      <td>0.0</td>\n",
              "      <td>NW</td>\n",
              "      <td>3.1</td>\n",
              "      <td>Aotizhongxin</td>\n",
              "    </tr>\n",
              "    <tr>\n",
              "      <th>4</th>\n",
              "      <td>5</td>\n",
              "      <td>2013</td>\n",
              "      <td>3</td>\n",
              "      <td>1</td>\n",
              "      <td>4</td>\n",
              "      <td>3.0</td>\n",
              "      <td>3.0</td>\n",
              "      <td>12.0</td>\n",
              "      <td>12.0</td>\n",
              "      <td>300.0</td>\n",
              "      <td>72.0</td>\n",
              "      <td>-2.0</td>\n",
              "      <td>1025.2</td>\n",
              "      <td>-19.5</td>\n",
              "      <td>0.0</td>\n",
              "      <td>N</td>\n",
              "      <td>2.0</td>\n",
              "      <td>Aotizhongxin</td>\n",
              "    </tr>\n",
              "  </tbody>\n",
              "</table>\n",
              "</div>\n",
              "    <div class=\"colab-df-buttons\">\n",
              "\n",
              "  <div class=\"colab-df-container\">\n",
              "    <button class=\"colab-df-convert\" onclick=\"convertToInteractive('df-d4ce0121-ad77-491c-aec3-fb6194e425c3')\"\n",
              "            title=\"Convert this dataframe to an interactive table.\"\n",
              "            style=\"display:none;\">\n",
              "\n",
              "  <svg xmlns=\"http://www.w3.org/2000/svg\" height=\"24px\" viewBox=\"0 -960 960 960\">\n",
              "    <path d=\"M120-120v-720h720v720H120Zm60-500h600v-160H180v160Zm220 220h160v-160H400v160Zm0 220h160v-160H400v160ZM180-400h160v-160H180v160Zm440 0h160v-160H620v160ZM180-180h160v-160H180v160Zm440 0h160v-160H620v160Z\"/>\n",
              "  </svg>\n",
              "    </button>\n",
              "\n",
              "  <style>\n",
              "    .colab-df-container {\n",
              "      display:flex;\n",
              "      gap: 12px;\n",
              "    }\n",
              "\n",
              "    .colab-df-convert {\n",
              "      background-color: #E8F0FE;\n",
              "      border: none;\n",
              "      border-radius: 50%;\n",
              "      cursor: pointer;\n",
              "      display: none;\n",
              "      fill: #1967D2;\n",
              "      height: 32px;\n",
              "      padding: 0 0 0 0;\n",
              "      width: 32px;\n",
              "    }\n",
              "\n",
              "    .colab-df-convert:hover {\n",
              "      background-color: #E2EBFA;\n",
              "      box-shadow: 0px 1px 2px rgba(60, 64, 67, 0.3), 0px 1px 3px 1px rgba(60, 64, 67, 0.15);\n",
              "      fill: #174EA6;\n",
              "    }\n",
              "\n",
              "    .colab-df-buttons div {\n",
              "      margin-bottom: 4px;\n",
              "    }\n",
              "\n",
              "    [theme=dark] .colab-df-convert {\n",
              "      background-color: #3B4455;\n",
              "      fill: #D2E3FC;\n",
              "    }\n",
              "\n",
              "    [theme=dark] .colab-df-convert:hover {\n",
              "      background-color: #434B5C;\n",
              "      box-shadow: 0px 1px 3px 1px rgba(0, 0, 0, 0.15);\n",
              "      filter: drop-shadow(0px 1px 2px rgba(0, 0, 0, 0.3));\n",
              "      fill: #FFFFFF;\n",
              "    }\n",
              "  </style>\n",
              "\n",
              "    <script>\n",
              "      const buttonEl =\n",
              "        document.querySelector('#df-d4ce0121-ad77-491c-aec3-fb6194e425c3 button.colab-df-convert');\n",
              "      buttonEl.style.display =\n",
              "        google.colab.kernel.accessAllowed ? 'block' : 'none';\n",
              "\n",
              "      async function convertToInteractive(key) {\n",
              "        const element = document.querySelector('#df-d4ce0121-ad77-491c-aec3-fb6194e425c3');\n",
              "        const dataTable =\n",
              "          await google.colab.kernel.invokeFunction('convertToInteractive',\n",
              "                                                    [key], {});\n",
              "        if (!dataTable) return;\n",
              "\n",
              "        const docLinkHtml = 'Like what you see? Visit the ' +\n",
              "          '<a target=\"_blank\" href=https://colab.research.google.com/notebooks/data_table.ipynb>data table notebook</a>'\n",
              "          + ' to learn more about interactive tables.';\n",
              "        element.innerHTML = '';\n",
              "        dataTable['output_type'] = 'display_data';\n",
              "        await google.colab.output.renderOutput(dataTable, element);\n",
              "        const docLink = document.createElement('div');\n",
              "        docLink.innerHTML = docLinkHtml;\n",
              "        element.appendChild(docLink);\n",
              "      }\n",
              "    </script>\n",
              "  </div>\n",
              "\n",
              "\n",
              "<div id=\"df-8e4de2fe-fb71-4d16-8ac4-9cd12f8cb97f\">\n",
              "  <button class=\"colab-df-quickchart\" onclick=\"quickchart('df-8e4de2fe-fb71-4d16-8ac4-9cd12f8cb97f')\"\n",
              "            title=\"Suggest charts\"\n",
              "            style=\"display:none;\">\n",
              "\n",
              "<svg xmlns=\"http://www.w3.org/2000/svg\" height=\"24px\"viewBox=\"0 0 24 24\"\n",
              "     width=\"24px\">\n",
              "    <g>\n",
              "        <path d=\"M19 3H5c-1.1 0-2 .9-2 2v14c0 1.1.9 2 2 2h14c1.1 0 2-.9 2-2V5c0-1.1-.9-2-2-2zM9 17H7v-7h2v7zm4 0h-2V7h2v10zm4 0h-2v-4h2v4z\"/>\n",
              "    </g>\n",
              "</svg>\n",
              "  </button>\n",
              "\n",
              "<style>\n",
              "  .colab-df-quickchart {\n",
              "      --bg-color: #E8F0FE;\n",
              "      --fill-color: #1967D2;\n",
              "      --hover-bg-color: #E2EBFA;\n",
              "      --hover-fill-color: #174EA6;\n",
              "      --disabled-fill-color: #AAA;\n",
              "      --disabled-bg-color: #DDD;\n",
              "  }\n",
              "\n",
              "  [theme=dark] .colab-df-quickchart {\n",
              "      --bg-color: #3B4455;\n",
              "      --fill-color: #D2E3FC;\n",
              "      --hover-bg-color: #434B5C;\n",
              "      --hover-fill-color: #FFFFFF;\n",
              "      --disabled-bg-color: #3B4455;\n",
              "      --disabled-fill-color: #666;\n",
              "  }\n",
              "\n",
              "  .colab-df-quickchart {\n",
              "    background-color: var(--bg-color);\n",
              "    border: none;\n",
              "    border-radius: 50%;\n",
              "    cursor: pointer;\n",
              "    display: none;\n",
              "    fill: var(--fill-color);\n",
              "    height: 32px;\n",
              "    padding: 0;\n",
              "    width: 32px;\n",
              "  }\n",
              "\n",
              "  .colab-df-quickchart:hover {\n",
              "    background-color: var(--hover-bg-color);\n",
              "    box-shadow: 0 1px 2px rgba(60, 64, 67, 0.3), 0 1px 3px 1px rgba(60, 64, 67, 0.15);\n",
              "    fill: var(--button-hover-fill-color);\n",
              "  }\n",
              "\n",
              "  .colab-df-quickchart-complete:disabled,\n",
              "  .colab-df-quickchart-complete:disabled:hover {\n",
              "    background-color: var(--disabled-bg-color);\n",
              "    fill: var(--disabled-fill-color);\n",
              "    box-shadow: none;\n",
              "  }\n",
              "\n",
              "  .colab-df-spinner {\n",
              "    border: 2px solid var(--fill-color);\n",
              "    border-color: transparent;\n",
              "    border-bottom-color: var(--fill-color);\n",
              "    animation:\n",
              "      spin 1s steps(1) infinite;\n",
              "  }\n",
              "\n",
              "  @keyframes spin {\n",
              "    0% {\n",
              "      border-color: transparent;\n",
              "      border-bottom-color: var(--fill-color);\n",
              "      border-left-color: var(--fill-color);\n",
              "    }\n",
              "    20% {\n",
              "      border-color: transparent;\n",
              "      border-left-color: var(--fill-color);\n",
              "      border-top-color: var(--fill-color);\n",
              "    }\n",
              "    30% {\n",
              "      border-color: transparent;\n",
              "      border-left-color: var(--fill-color);\n",
              "      border-top-color: var(--fill-color);\n",
              "      border-right-color: var(--fill-color);\n",
              "    }\n",
              "    40% {\n",
              "      border-color: transparent;\n",
              "      border-right-color: var(--fill-color);\n",
              "      border-top-color: var(--fill-color);\n",
              "    }\n",
              "    60% {\n",
              "      border-color: transparent;\n",
              "      border-right-color: var(--fill-color);\n",
              "    }\n",
              "    80% {\n",
              "      border-color: transparent;\n",
              "      border-right-color: var(--fill-color);\n",
              "      border-bottom-color: var(--fill-color);\n",
              "    }\n",
              "    90% {\n",
              "      border-color: transparent;\n",
              "      border-bottom-color: var(--fill-color);\n",
              "    }\n",
              "  }\n",
              "</style>\n",
              "\n",
              "  <script>\n",
              "    async function quickchart(key) {\n",
              "      const quickchartButtonEl =\n",
              "        document.querySelector('#' + key + ' button');\n",
              "      quickchartButtonEl.disabled = true;  // To prevent multiple clicks.\n",
              "      quickchartButtonEl.classList.add('colab-df-spinner');\n",
              "      try {\n",
              "        const charts = await google.colab.kernel.invokeFunction(\n",
              "            'suggestCharts', [key], {});\n",
              "      } catch (error) {\n",
              "        console.error('Error during call to suggestCharts:', error);\n",
              "      }\n",
              "      quickchartButtonEl.classList.remove('colab-df-spinner');\n",
              "      quickchartButtonEl.classList.add('colab-df-quickchart-complete');\n",
              "    }\n",
              "    (() => {\n",
              "      let quickchartButtonEl =\n",
              "        document.querySelector('#df-8e4de2fe-fb71-4d16-8ac4-9cd12f8cb97f button');\n",
              "      quickchartButtonEl.style.display =\n",
              "        google.colab.kernel.accessAllowed ? 'block' : 'none';\n",
              "    })();\n",
              "  </script>\n",
              "</div>\n",
              "\n",
              "    </div>\n",
              "  </div>\n"
            ],
            "application/vnd.google.colaboratory.intrinsic+json": {
              "type": "dataframe",
              "variable_name": "df",
              "summary": "{\n  \"name\": \"df\",\n  \"rows\": 25977,\n  \"fields\": [\n    {\n      \"column\": \"No\",\n      \"properties\": {\n        \"dtype\": \"number\",\n        \"std\": 8137,\n        \"min\": 1,\n        \"max\": 28051,\n        \"num_unique_values\": 25977,\n        \"samples\": [\n          14038,\n          21645,\n          13630\n        ],\n        \"semantic_type\": \"\",\n        \"description\": \"\"\n      }\n    },\n    {\n      \"column\": \"year\",\n      \"properties\": {\n        \"dtype\": \"number\",\n        \"std\": 0,\n        \"min\": 2013,\n        \"max\": 2016,\n        \"num_unique_values\": 4,\n        \"samples\": [\n          2014,\n          2016,\n          2013\n        ],\n        \"semantic_type\": \"\",\n        \"description\": \"\"\n      }\n    },\n    {\n      \"column\": \"month\",\n      \"properties\": {\n        \"dtype\": \"number\",\n        \"std\": 3,\n        \"min\": 1,\n        \"max\": 12,\n        \"num_unique_values\": 12,\n        \"samples\": [\n          1,\n          12,\n          3\n        ],\n        \"semantic_type\": \"\",\n        \"description\": \"\"\n      }\n    },\n    {\n      \"column\": \"day\",\n      \"properties\": {\n        \"dtype\": \"number\",\n        \"std\": 8,\n        \"min\": 1,\n        \"max\": 31,\n        \"num_unique_values\": 31,\n        \"samples\": [\n          28,\n          16,\n          24\n        ],\n        \"semantic_type\": \"\",\n        \"description\": \"\"\n      }\n    },\n    {\n      \"column\": \"hour\",\n      \"properties\": {\n        \"dtype\": \"number\",\n        \"std\": 6,\n        \"min\": 0,\n        \"max\": 23,\n        \"num_unique_values\": 24,\n        \"samples\": [\n          8,\n          16,\n          0\n        ],\n        \"semantic_type\": \"\",\n        \"description\": \"\"\n      }\n    },\n    {\n      \"column\": \"PM2.5\",\n      \"properties\": {\n        \"dtype\": \"number\",\n        \"std\": 81.29815081062704,\n        \"min\": 3.0,\n        \"max\": 898.0,\n        \"num_unique_values\": 516,\n        \"samples\": [\n          247.0,\n          523.0,\n          8.6\n        ],\n        \"semantic_type\": \"\",\n        \"description\": \"\"\n      }\n    },\n    {\n      \"column\": \"PM10\",\n      \"properties\": {\n        \"dtype\": \"number\",\n        \"std\": 96.42819835508698,\n        \"min\": 2.0,\n        \"max\": 984.0,\n        \"num_unique_values\": 608,\n        \"samples\": [\n          293.0,\n          20.0,\n          90.0\n        ],\n        \"semantic_type\": \"\",\n        \"description\": \"\"\n      }\n    },\n    {\n      \"column\": \"SO2\",\n      \"properties\": {\n        \"dtype\": \"number\",\n        \"std\": 24.33983678221184,\n        \"min\": 0.2856,\n        \"max\": 341.0,\n        \"num_unique_values\": 321,\n        \"samples\": [\n          6.8544,\n          120.0,\n          0.2856\n        ],\n        \"semantic_type\": \"\",\n        \"description\": \"\"\n      }\n    },\n    {\n      \"column\": \"NO2\",\n      \"properties\": {\n        \"dtype\": \"number\",\n        \"std\": 36.81033555489769,\n        \"min\": 2.0,\n        \"max\": 290.0,\n        \"num_unique_values\": 413,\n        \"samples\": [\n          199.0,\n          79.8617,\n          198.0\n        ],\n        \"semantic_type\": \"\",\n        \"description\": \"\"\n      }\n    },\n    {\n      \"column\": \"CO\",\n      \"properties\": {\n        \"dtype\": \"number\",\n        \"std\": 1178.4813592049786,\n        \"min\": 100.0,\n        \"max\": 10000.0,\n        \"num_unique_values\": 110,\n        \"samples\": [\n          8900.0,\n          1300.0,\n          700.0\n        ],\n        \"semantic_type\": \"\",\n        \"description\": \"\"\n      }\n    },\n    {\n      \"column\": \"O3\",\n      \"properties\": {\n        \"dtype\": \"number\",\n        \"std\": 56.36388449654741,\n        \"min\": 0.2142,\n        \"max\": 423.0,\n        \"num_unique_values\": 812,\n        \"samples\": [\n          139.8726,\n          43.0542,\n          222.0\n        ],\n        \"semantic_type\": \"\",\n        \"description\": \"\"\n      }\n    },\n    {\n      \"column\": \"TEMP\",\n      \"properties\": {\n        \"dtype\": \"number\",\n        \"std\": 11.156290547138424,\n        \"min\": -16.8,\n        \"max\": 40.5,\n        \"num_unique_values\": 530,\n        \"samples\": [\n          10.4,\n          35.0,\n          -1.6\n        ],\n        \"semantic_type\": \"\",\n        \"description\": \"\"\n      }\n    },\n    {\n      \"column\": \"PRES\",\n      \"properties\": {\n        \"dtype\": \"number\",\n        \"std\": 10.266314837482733,\n        \"min\": 985.9,\n        \"max\": 1042.0,\n        \"num_unique_values\": 525,\n        \"samples\": [\n          1021.6,\n          1028.1,\n          1026.5\n        ],\n        \"semantic_type\": \"\",\n        \"description\": \"\"\n      }\n    },\n    {\n      \"column\": \"DEWP\",\n      \"properties\": {\n        \"dtype\": \"number\",\n        \"std\": 13.617253498057535,\n        \"min\": -35.3,\n        \"max\": 28.5,\n        \"num_unique_values\": 601,\n        \"samples\": [\n          -2.1,\n          23.5,\n          -30.8\n        ],\n        \"semantic_type\": \"\",\n        \"description\": \"\"\n      }\n    },\n    {\n      \"column\": \"RAIN\",\n      \"properties\": {\n        \"dtype\": \"number\",\n        \"std\": 0.8618861303304827,\n        \"min\": 0.0,\n        \"max\": 72.5,\n        \"num_unique_values\": 107,\n        \"samples\": [\n          8.0,\n          1.0,\n          0.2\n        ],\n        \"semantic_type\": \"\",\n        \"description\": \"\"\n      }\n    },\n    {\n      \"column\": \"wd\",\n      \"properties\": {\n        \"dtype\": \"category\",\n        \"num_unique_values\": 16,\n        \"samples\": [\n          \"NNW\",\n          \"N\",\n          \"E\"\n        ],\n        \"semantic_type\": \"\",\n        \"description\": \"\"\n      }\n    },\n    {\n      \"column\": \"WSPM\",\n      \"properties\": {\n        \"dtype\": \"number\",\n        \"std\": 1.2381173146568298,\n        \"min\": 0.0,\n        \"max\": 11.2,\n        \"num_unique_values\": 89,\n        \"samples\": [\n          4.5,\n          4.0,\n          5.9\n        ],\n        \"semantic_type\": \"\",\n        \"description\": \"\"\n      }\n    },\n    {\n      \"column\": \"station\",\n      \"properties\": {\n        \"dtype\": \"category\",\n        \"num_unique_values\": 1,\n        \"samples\": [\n          \"Aotizhongxin\"\n        ],\n        \"semantic_type\": \"\",\n        \"description\": \"\"\n      }\n    }\n  ]\n}"
            }
          },
          "metadata": {},
          "execution_count": 89
        }
      ]
    },
    {
      "cell_type": "code",
      "source": [
        "# Assuming 'df' is your DataFrame containing the dataset\n",
        "# Selecting the specified features: PM2.5, TEMP, NO2, SO2, DEWP, O3, WSPM, RAIN\n",
        "# Adjust the column indices according to your DataFrame structure\n",
        "features_columns = ['PM2.5', 'TEMP', 'NO2', 'SO2', 'DEWP', 'O3', 'WSPM', 'RAIN']  # Use the actual column names from your DataFrame\n",
        "\n",
        "# Select all rows for these features\n",
        "training_set = df[features_columns].values\n",
        "\n",
        "# Check the length of the training_set\n",
        "length_of_training_set = len(training_set)\n",
        "print(length_of_training_set)"
      ],
      "metadata": {
        "colab": {
          "base_uri": "https://localhost:8080/"
        },
        "id": "YvpM5Xj0Egsb",
        "outputId": "a3537370-18e3-4f9b-ceee-51313ad45807"
      },
      "execution_count": null,
      "outputs": [
        {
          "output_type": "stream",
          "name": "stdout",
          "text": [
            "25977\n"
          ]
        }
      ]
    },
    {
      "cell_type": "code",
      "source": [
        "training_set = training_set[-5000:]"
      ],
      "metadata": {
        "id": "0QRi-giz87y_"
      },
      "execution_count": null,
      "outputs": []
    },
    {
      "cell_type": "markdown",
      "source": [
        "**Feature Scaling**"
      ],
      "metadata": {
        "id": "c8FS_BS3IBMd"
      }
    },
    {
      "cell_type": "code",
      "metadata": {
        "id": "OTrF2kR7gx9x"
      },
      "source": [
        "# normalize your data for CNN-LSTM\n",
        "sc = MinMaxScaler(feature_range = (0,1))\n",
        "training_set_scaled = sc.fit_transform(training_set)"
      ],
      "execution_count": null,
      "outputs": []
    },
    {
      "cell_type": "code",
      "source": [
        "lag = 48  # Number of hours to use as input to predict the next hour.\n",
        "n_obs = 5000  # Total number of hourly observations in your training set.\n",
        "features = 8  # Total number of features included\n",
        "\n",
        "X_train = []\n",
        "y_train = []\n",
        "\n",
        "for i in range(lag, n_obs):\n",
        "    X_train.append(training_set_scaled[i-lag:i, :])  # The previous 48 hours' data.2 days\n",
        "    y_train.append(training_set_scaled[i, 0])  # The current hour's data to predict.\n",
        "\n",
        "# Convert lists to numpy arrays for training the CNN-LSTM.\n",
        "X_train, y_train = np.array(X_train), np.array(y_train)\n",
        "\n",
        "# Now, X_train should have the shape [samples, timesteps, features]\n",
        "print(X_train.shape)  # Expected shape: (number of samples, lag, features)"
      ],
      "metadata": {
        "colab": {
          "base_uri": "https://localhost:8080/"
        },
        "id": "UrWdKwtaJ4LT",
        "outputId": "75b46cb2-b0bf-4c71-b293-e5019a073cc3"
      },
      "execution_count": null,
      "outputs": [
        {
          "output_type": "stream",
          "name": "stdout",
          "text": [
            "(4952, 48, 8)\n"
          ]
        }
      ]
    },
    {
      "cell_type": "code",
      "source": [
        "X_train.shape"
      ],
      "metadata": {
        "colab": {
          "base_uri": "https://localhost:8080/"
        },
        "id": "vmmO8GNkJpl-",
        "outputId": "38e6608d-a7f6-44e0-cfdd-8e6e1d0dd60c"
      },
      "execution_count": null,
      "outputs": [
        {
          "output_type": "execute_result",
          "data": {
            "text/plain": [
              "(4952, 48, 8)"
            ]
          },
          "metadata": {},
          "execution_count": 95
        }
      ]
    },
    {
      "cell_type": "markdown",
      "source": [
        "# **CNN LSTM**"
      ],
      "metadata": {
        "id": "5rJvHsEfIO3B"
      }
    },
    {
      "cell_type": "code",
      "source": [
        "from keras.models import Sequential\n",
        "from keras.layers import TimeDistributed\n",
        "from keras.layers import Conv1D, MaxPooling1D\n",
        "from keras.layers import Flatten\n",
        "from keras.layers import LSTM, Bidirectional\n",
        "from keras.layers import Dense, Dropout\n",
        "\n",
        "model = Sequential()\n",
        "\n",
        "# Define the number of time steps and features for the CNN layers\n",
        "n_steps, n_features, n_seq = 4, 8, X_train.shape[1] // 4 # Set n_features to 8\n",
        "X_train = X_train.reshape((X_train.shape[0], n_seq, n_steps, n_features))\n",
        "\n",
        "# CNN layers wrapped in TimeDistributed to allow for sequence processing\n",
        "model.add(TimeDistributed(Conv1D(filters=64, kernel_size=1, activation='relu'), input_shape=(None, n_steps, n_features)))\n",
        "model.add(TimeDistributed(MaxPooling1D(pool_size=2)))\n",
        "model.add(TimeDistributed(Flatten()))\n",
        "\n",
        "# LSTM layer\n",
        "model.add(Bidirectional(LSTM(50)))\n",
        "\n",
        "# Output layer\n",
        "model.add(Dense(1))"
      ],
      "metadata": {
        "id": "sWoHqDMXINFh"
      },
      "execution_count": null,
      "outputs": []
    },
    {
      "cell_type": "code",
      "source": [
        "model.summary()\n"
      ],
      "metadata": {
        "colab": {
          "base_uri": "https://localhost:8080/"
        },
        "id": "bQKo_L0kKFzL",
        "outputId": "079c1bcb-d24c-4fd2-c143-7c7cbabd61d8"
      },
      "execution_count": null,
      "outputs": [
        {
          "output_type": "stream",
          "name": "stdout",
          "text": [
            "Model: \"sequential_7\"\n",
            "_________________________________________________________________\n",
            " Layer (type)                Output Shape              Param #   \n",
            "=================================================================\n",
            " time_distributed_12 (TimeD  (None, None, 4, 64)       576       \n",
            " istributed)                                                     \n",
            "                                                                 \n",
            " time_distributed_13 (TimeD  (None, None, 2, 64)       0         \n",
            " istributed)                                                     \n",
            "                                                                 \n",
            " time_distributed_14 (TimeD  (None, None, 128)         0         \n",
            " istributed)                                                     \n",
            "                                                                 \n",
            " bidirectional_4 (Bidirecti  (None, 100)               71600     \n",
            " onal)                                                           \n",
            "                                                                 \n",
            " dense_4 (Dense)             (None, 1)                 101       \n",
            "                                                                 \n",
            "=================================================================\n",
            "Total params: 72277 (282.33 KB)\n",
            "Trainable params: 72277 (282.33 KB)\n",
            "Non-trainable params: 0 (0.00 Byte)\n",
            "_________________________________________________________________\n"
          ]
        }
      ]
    },
    {
      "cell_type": "markdown",
      "source": [
        "Fitting the CNN-LSTM to the Training set"
      ],
      "metadata": {
        "id": "aUszimhAKYa3"
      }
    },
    {
      "cell_type": "code",
      "source": [
        "# Compiling the CNN-LSTM\n",
        "model.compile(optimizer = 'adam', loss = 'mean_squared_error')\n",
        "# Fitting\n",
        "model.fit(X_train, y_train, epochs=50, batch_size=32)"
      ],
      "metadata": {
        "colab": {
          "base_uri": "https://localhost:8080/"
        },
        "id": "ubWOIdBLKZdD",
        "outputId": "c7896255-784e-41ef-c5b4-dd1d831dfd95"
      },
      "execution_count": null,
      "outputs": [
        {
          "output_type": "stream",
          "name": "stdout",
          "text": [
            "Epoch 1/50\n",
            "155/155 [==============================] - 8s 18ms/step - loss: 0.0040\n",
            "Epoch 2/50\n",
            "155/155 [==============================] - 3s 18ms/step - loss: 0.0018\n",
            "Epoch 3/50\n",
            "155/155 [==============================] - 3s 18ms/step - loss: 0.0013\n",
            "Epoch 4/50\n",
            "155/155 [==============================] - 4s 26ms/step - loss: 0.0012\n",
            "Epoch 5/50\n",
            "155/155 [==============================] - 3s 18ms/step - loss: 0.0011\n",
            "Epoch 6/50\n",
            "155/155 [==============================] - 3s 18ms/step - loss: 0.0011\n",
            "Epoch 7/50\n",
            "155/155 [==============================] - 3s 18ms/step - loss: 0.0011\n",
            "Epoch 8/50\n",
            "155/155 [==============================] - 4s 25ms/step - loss: 0.0010\n",
            "Epoch 9/50\n",
            "155/155 [==============================] - 3s 20ms/step - loss: 0.0010\n",
            "Epoch 10/50\n",
            "155/155 [==============================] - 3s 19ms/step - loss: 9.7058e-04\n",
            "Epoch 11/50\n",
            "155/155 [==============================] - 3s 20ms/step - loss: 0.0010\n",
            "Epoch 12/50\n",
            "155/155 [==============================] - 4s 26ms/step - loss: 0.0010\n",
            "Epoch 13/50\n",
            "155/155 [==============================] - 3s 20ms/step - loss: 9.2953e-04\n",
            "Epoch 14/50\n",
            "155/155 [==============================] - 3s 18ms/step - loss: 9.3407e-04\n",
            "Epoch 15/50\n",
            "155/155 [==============================] - 3s 19ms/step - loss: 9.3206e-04\n",
            "Epoch 16/50\n",
            "155/155 [==============================] - 3s 23ms/step - loss: 8.9801e-04\n",
            "Epoch 17/50\n",
            "155/155 [==============================] - 3s 22ms/step - loss: 9.2632e-04\n",
            "Epoch 18/50\n",
            "155/155 [==============================] - 3s 18ms/step - loss: 9.0658e-04\n",
            "Epoch 19/50\n",
            "155/155 [==============================] - 3s 19ms/step - loss: 8.9799e-04\n",
            "Epoch 20/50\n",
            "155/155 [==============================] - 3s 20ms/step - loss: 8.5475e-04\n",
            "Epoch 21/50\n",
            "155/155 [==============================] - 4s 24ms/step - loss: 8.4530e-04\n",
            "Epoch 22/50\n",
            "155/155 [==============================] - 3s 18ms/step - loss: 8.4449e-04\n",
            "Epoch 23/50\n",
            "155/155 [==============================] - 3s 18ms/step - loss: 8.3910e-04\n",
            "Epoch 24/50\n",
            "155/155 [==============================] - 3s 18ms/step - loss: 8.2629e-04\n",
            "Epoch 25/50\n",
            "155/155 [==============================] - 4s 26ms/step - loss: 8.1018e-04\n",
            "Epoch 26/50\n",
            "155/155 [==============================] - 3s 18ms/step - loss: 8.3254e-04\n",
            "Epoch 27/50\n",
            "155/155 [==============================] - 3s 18ms/step - loss: 8.4805e-04\n",
            "Epoch 28/50\n",
            "155/155 [==============================] - 3s 18ms/step - loss: 8.3790e-04\n",
            "Epoch 29/50\n",
            "155/155 [==============================] - 4s 27ms/step - loss: 7.9193e-04\n",
            "Epoch 30/50\n",
            "155/155 [==============================] - 3s 18ms/step - loss: 7.8120e-04\n",
            "Epoch 31/50\n",
            "155/155 [==============================] - 3s 18ms/step - loss: 7.7272e-04\n",
            "Epoch 32/50\n",
            "155/155 [==============================] - 3s 18ms/step - loss: 7.5576e-04\n",
            "Epoch 33/50\n",
            "155/155 [==============================] - 4s 26ms/step - loss: 7.5761e-04\n",
            "Epoch 34/50\n",
            "155/155 [==============================] - 3s 19ms/step - loss: 7.9711e-04\n",
            "Epoch 35/50\n",
            "155/155 [==============================] - 3s 18ms/step - loss: 7.3442e-04\n",
            "Epoch 36/50\n",
            "155/155 [==============================] - 3s 18ms/step - loss: 7.6559e-04\n",
            "Epoch 37/50\n",
            "155/155 [==============================] - 4s 23ms/step - loss: 7.1588e-04\n",
            "Epoch 38/50\n",
            "155/155 [==============================] - 3s 21ms/step - loss: 7.3557e-04\n",
            "Epoch 39/50\n",
            "155/155 [==============================] - 3s 19ms/step - loss: 7.1922e-04\n",
            "Epoch 40/50\n",
            "155/155 [==============================] - 3s 19ms/step - loss: 7.3590e-04\n",
            "Epoch 41/50\n",
            "155/155 [==============================] - 3s 21ms/step - loss: 7.0771e-04\n",
            "Epoch 42/50\n",
            "155/155 [==============================] - 4s 23ms/step - loss: 6.9447e-04\n",
            "Epoch 43/50\n",
            "155/155 [==============================] - 3s 18ms/step - loss: 6.8235e-04\n",
            "Epoch 44/50\n",
            "155/155 [==============================] - 3s 18ms/step - loss: 6.7514e-04\n",
            "Epoch 45/50\n",
            "155/155 [==============================] - 3s 19ms/step - loss: 6.6892e-04\n",
            "Epoch 46/50\n",
            "155/155 [==============================] - 4s 26ms/step - loss: 6.6608e-04\n",
            "Epoch 47/50\n",
            "155/155 [==============================] - 3s 18ms/step - loss: 6.5910e-04\n",
            "Epoch 48/50\n",
            "155/155 [==============================] - 3s 18ms/step - loss: 6.5620e-04\n",
            "Epoch 49/50\n",
            "155/155 [==============================] - 3s 18ms/step - loss: 6.2578e-04\n",
            "Epoch 50/50\n",
            "155/155 [==============================] - 4s 27ms/step - loss: 6.1278e-04\n"
          ]
        },
        {
          "output_type": "execute_result",
          "data": {
            "text/plain": [
              "<keras.src.callbacks.History at 0x7b1e4a2de320>"
            ]
          },
          "metadata": {},
          "execution_count": 98
        }
      ]
    },
    {
      "cell_type": "markdown",
      "source": [
        "Making the predictions and visualising the results"
      ],
      "metadata": {
        "id": "oI4KjojnKu9h"
      }
    },
    {
      "cell_type": "code",
      "source": [
        "# transform and create sequences for Test data\n",
        "dataset_test = pd.read_csv('/content/Test.csv')\n"
      ],
      "metadata": {
        "id": "lRA615D4L5tk"
      },
      "execution_count": null,
      "outputs": []
    },
    {
      "cell_type": "code",
      "source": [
        "# Assuming 'sc' is your MinMaxScaler fitted on the training data\n",
        "\n",
        "# Drop rows with NaN values in any of the columns you're using\n",
        "dataset_test.dropna(subset=['PM2.5', 'TEMP', 'NO2', 'SO2', 'DEWP', 'O3', 'WSPM', 'RAIN'], inplace=True)\n",
        "\n",
        "# Scale the test data using the same scaler as the training data\n",
        "# Make sure to select the same features in the same order as the training set\n",
        "test_features = dataset_test[['PM2.5', 'TEMP', 'NO2', 'SO2', 'DEWP', 'O3', 'WSPM', 'RAIN']].values\n",
        "test_features_scaled = sc.transform(test_features)\n",
        "\n",
        "# Prepare sequences for testing\n",
        "X_test = []\n",
        "for i in range(lag, len(test_features_scaled)):\n",
        "    X_test.append(test_features_scaled[i-lag:i]) # Use all features\n",
        "\n",
        "X_test = np.array(X_test)\n",
        "\n",
        "# Reshape X_test if necessary (it might already be in the correct shape)\n",
        "# X_test should now be shaped [samples, timesteps, features]\n",
        "# No need to reshape based on the previous step since it already considers all features\n",
        "\n",
        "# Make predictions\n"
      ],
      "metadata": {
        "id": "wbeJeo6c69D0"
      },
      "execution_count": null,
      "outputs": []
    },
    {
      "cell_type": "code",
      "source": [
        "# Reshape X_test to match the expected input shape of the model\n",
        "X_test = X_test.reshape((X_test.shape[0], X_test.shape[1] // n_steps, n_steps, n_features))\n",
        "\n",
        "# Make predictions\n",
        "pred_PM2 = model.predict(X_test)"
      ],
      "metadata": {
        "colab": {
          "base_uri": "https://localhost:8080/"
        },
        "id": "3nvyh_3Zs_Wg",
        "outputId": "96f7647e-5001-46f2-d3e3-e5d3bdad9554"
      },
      "execution_count": null,
      "outputs": [
        {
          "output_type": "stream",
          "name": "stdout",
          "text": [
            "207/207 [==============================] - 2s 6ms/step\n"
          ]
        }
      ]
    },
    {
      "cell_type": "code",
      "source": [
        "# real_PM2 = dataset_test['PM2.5'].values\n",
        "# real_PM2"
      ],
      "metadata": {
        "id": "JbsZ1-v4686i"
      },
      "execution_count": null,
      "outputs": []
    },
    {
      "cell_type": "code",
      "source": [
        "# Assume pred_PM2 is your predictions with shape (num_samples, 1)\n",
        "# Create an array with the same number of columns as the original scaled data\n",
        "pred_full = np.zeros((pred_PM2.shape[0], 8))  # 8 for the number of features you have\n",
        "\n",
        "# Assuming PM2.5 is the first column, fill in your predictions there\n",
        "pred_full[:, 0] = pred_PM2.ravel()  # Use ravel() to ensure it's a 1D array\n",
        "\n",
        "# Perform the inverse transformation\n",
        "pred_full_inverse = sc.inverse_transform(pred_full)\n",
        "\n",
        "# Extract the PM2.5 predictions after inverse transforming\n",
        "pred_PM2_inverse = pred_full_inverse[:, 0]"
      ],
      "metadata": {
        "id": "jKndQQD7O301"
      },
      "execution_count": null,
      "outputs": []
    },
    {
      "cell_type": "code",
      "source": [
        "# data_set_total.reset_index(drop=True, inplace=True)"
      ],
      "metadata": {
        "id": "ozrMiY-9H4bX"
      },
      "execution_count": null,
      "outputs": []
    },
    {
      "cell_type": "code",
      "source": [
        "# Assuming dataset_test is your test DataFrame and it's already preprocessed to drop NaNs as before\n",
        "real_PM2 = dataset_test['PM2.5'].values[-len(pred_PM2):]  # Make sure to align the lengths\n",
        "\n",
        "# Ensure real_PM2 is properly shaped for comparison\n",
        "# If necessary, reshape it (though it should already be a 1D array matching pred_PM2_inverse in length)\n",
        "real_PM2 = real_PM2.reshape(-1, 1)  # Only needed if real_PM2 isn't already a 1D array\n",
        "\n",
        "# Now proceed with RMSE calculation\n",
        "RMSE = np.sqrt(np.mean((pred_PM2_inverse - real_PM2.ravel())**2))  # Use ravel() to ensure it's 1D for calculation\n",
        "print(\"RMSE:\", RMSE)"
      ],
      "metadata": {
        "colab": {
          "base_uri": "https://localhost:8080/"
        },
        "id": "2W9cTrretMvq",
        "outputId": "726371c9-c1eb-4ae9-f29d-a1cf4fa28521"
      },
      "execution_count": null,
      "outputs": [
        {
          "output_type": "stream",
          "name": "stdout",
          "text": [
            "RMSE: 25.678627100267086\n"
          ]
        }
      ]
    },
    {
      "cell_type": "code",
      "source": [
        "from sklearn.metrics import mean_squared_error, mean_absolute_error, r2_score\n",
        "\n",
        "# Calculate RMSE\n",
        "rmse = np.sqrt(mean_squared_error(real_PM2.ravel(), pred_PM2_inverse))\n",
        "\n",
        "# Calculate MAE\n",
        "mae = mean_absolute_error(real_PM2.ravel(), pred_PM2_inverse)\n",
        "\n",
        "# Calculate MSE\n",
        "mse = mean_squared_error(real_PM2.ravel(), pred_PM2_inverse)\n",
        "\n",
        "# Calculate MAPE - Note: You have to ensure real_PM2 does not contain zeros to avoid division by zero\n",
        "mape = np.mean(np.abs((real_PM2.ravel() - pred_PM2_inverse) / real_PM2.ravel())) * 100\n",
        "\n",
        "# Calculate R-squared\n",
        "r2 = r2_score(real_PM2.ravel(), pred_PM2_inverse)\n",
        "\n",
        "# Print the results\n",
        "print('RMSE: {:.4f}'.format(rmse))\n",
        "print('MAE: {:.4f}'.format(mae))\n",
        "print('MSE: {:.4f}'.format(mse))\n",
        "print('MAPE: {:.4f}%'.format(mape))\n",
        "print('R-squared: {:.4f}'.format(r2))"
      ],
      "metadata": {
        "id": "cUZalvWChwRF",
        "colab": {
          "base_uri": "https://localhost:8080/"
        },
        "outputId": "26d64c3b-4671-4ecf-901d-da2cc90d3981"
      },
      "execution_count": null,
      "outputs": [
        {
          "output_type": "stream",
          "name": "stdout",
          "text": [
            "RMSE: 25.6786\n",
            "MAE: 16.3269\n",
            "MSE: 659.3919\n",
            "MAPE: 46.4035%\n",
            "R-squared: 0.9084\n"
          ]
        }
      ]
    },
    {
      "cell_type": "code",
      "metadata": {
        "id": "8OUI8U49k9tH",
        "colab": {
          "base_uri": "https://localhost:8080/",
          "height": 472
        },
        "outputId": "19f42c82-ab4d-4fc9-fe83-8b4bcf753a42"
      },
      "source": [
        "plt.plot(real_PM2.ravel(), color = 'red', label = 'Real')\n",
        "plt.plot(pred_PM2_inverse, color = 'blue', label = 'Predicted')\n",
        "plt.title('Prediction-CNNLSTM-Multivaiable')\n",
        "plt.xlabel('Time')\n",
        "plt.ylabel('Air-Polution')\n",
        "plt.legend()\n",
        "plt.show()"
      ],
      "execution_count": null,
      "outputs": [
        {
          "output_type": "display_data",
          "data": {
            "text/plain": [
              "<Figure size 640x480 with 1 Axes>"
            ],
            "image/png": "[encoded data removed]"
          },
          "metadata": {}
        }
      ]
    }
  ]
}