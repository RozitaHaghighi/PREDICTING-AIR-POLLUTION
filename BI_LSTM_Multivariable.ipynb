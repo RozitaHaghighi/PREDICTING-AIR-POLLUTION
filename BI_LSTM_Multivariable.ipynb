{
  "nbformat": 4,
  "nbformat_minor": 0,
  "metadata": {
    "colab": {
      "provenance": []
    },
    "kernelspec": {
      "name": "python3",
      "display_name": "Python 3"
    },
    "language_info": {
      "name": "python"
    }
  },
  "cells": [
    {
      "cell_type": "code",
      "execution_count": null,
      "metadata": {
        "id": "iMvK5VkynhcC"
      },
      "outputs": [],
      "source": [
        "import pandas as pd\n",
        "import numpy as np\n",
        "import matplotlib as plt\n",
        "import seaborn as sns\n",
        "from sklearn import linear_model, metrics\n",
        "from sklearn.metrics import confusion_matrix, precision_score, recall_score\n",
        "import pandas as pd\n",
        "import statsmodels.api as sm\n",
        "import matplotlib.pyplot as plt\n",
        "import seaborn as sns\n",
        "from sklearn.preprocessing import MinMaxScaler\n",
        "from sklearn.model_selection import train_test_split\n",
        "\n",
        "from keras import datasets, layers, models\n",
        "\n",
        "\n",
        "from keras.layers import Dense\n",
        "from keras import datasets, layers, models\n",
        "import math\n",
        "\n",
        "from sklearn.cluster import KMeans\n",
        "import tensorflow as tf\n",
        "from keras import layers, datasets, models\n",
        "from keras.models import Sequential\n",
        "from keras.layers import LSTM, Dropout, Dense\n",
        "\n"
      ]
    },
    {
      "cell_type": "code",
      "source": [
        "df = pd.read_csv(\"/content/Train.csv\")"
      ],
      "metadata": {
        "id": "cEaM8IHAnh9y"
      },
      "execution_count": null,
      "outputs": []
    },
    {
      "cell_type": "code",
      "source": [
        "# df.dropna(subset=['PM2.5'], inplace=True)\n",
        "features = ['PM2.5', 'TEMP', 'NO2', 'SO2', 'DEWP', 'O3', 'WSPM', 'RAIN']\n",
        "df.dropna(subset=features, inplace=True)"
      ],
      "metadata": {
        "id": "TRBnDEsxKZHY"
      },
      "execution_count": null,
      "outputs": []
    },
    {
      "cell_type": "code",
      "source": [
        "df.head()"
      ],
      "metadata": {
        "colab": {
          "base_uri": "https://localhost:8080/",
          "height": 206
        },
        "id": "SKgTlqo4_6o6",
        "outputId": "3bb15853-e591-499d-fb63-ead95f537dfb"
      },
      "execution_count": null,
      "outputs": [
        {
          "output_type": "execute_result",
          "data": {
            "text/plain": [
              "   No  year  month  day  hour  PM2.5  PM10   SO2   NO2     CO    O3  TEMP  \\\n",
              "0   1  2013      3    1     0    4.0   4.0   4.0   7.0  300.0  77.0  -0.7   \n",
              "1   2  2013      3    1     1    8.0   8.0   4.0   7.0  300.0  77.0  -1.1   \n",
              "2   3  2013      3    1     2    7.0   7.0   5.0  10.0  300.0  73.0  -1.1   \n",
              "3   4  2013      3    1     3    6.0   6.0  11.0  11.0  300.0  72.0  -1.4   \n",
              "4   5  2013      3    1     4    3.0   3.0  12.0  12.0  300.0  72.0  -2.0   \n",
              "\n",
              "     PRES  DEWP  RAIN   wd  WSPM       station  \n",
              "0  1023.0 -18.8   0.0  NNW   4.4  Aotizhongxin  \n",
              "1  1023.2 -18.2   0.0    N   4.7  Aotizhongxin  \n",
              "2  1023.5 -18.2   0.0  NNW   5.6  Aotizhongxin  \n",
              "3  1024.5 -19.4   0.0   NW   3.1  Aotizhongxin  \n",
              "4  1025.2 -19.5   0.0    N   2.0  Aotizhongxin  "
            ],
            "text/html": [
              "\n",
              "  <div id=\"df-0506735c-fdff-4865-aca4-205837dc33f6\" class=\"colab-df-container\">\n",
              "    <div>\n",
              "<style scoped>\n",
              "    .dataframe tbody tr th:only-of-type {\n",
              "        vertical-align: middle;\n",
              "    }\n",
              "\n",
              "    .dataframe tbody tr th {\n",
              "        vertical-align: top;\n",
              "    }\n",
              "\n",
              "    .dataframe thead th {\n",
              "        text-align: right;\n",
              "    }\n",
              "</style>\n",
              "<table border=\"1\" class=\"dataframe\">\n",
              "  <thead>\n",
              "    <tr style=\"text-align: right;\">\n",
              "      <th></th>\n",
              "      <th>No</th>\n",
              "      <th>year</th>\n",
              "      <th>month</th>\n",
              "      <th>day</th>\n",
              "      <th>hour</th>\n",
              "      <th>PM2.5</th>\n",
              "      <th>PM10</th>\n",
              "      <th>SO2</th>\n",
              "      <th>NO2</th>\n",
              "      <th>CO</th>\n",
              "      <th>O3</th>\n",
              "      <th>TEMP</th>\n",
              "      <th>PRES</th>\n",
              "      <th>DEWP</th>\n",
              "      <th>RAIN</th>\n",
              "      <th>wd</th>\n",
              "      <th>WSPM</th>\n",
              "      <th>station</th>\n",
              "    </tr>\n",
              "  </thead>\n",
              "  <tbody>\n",
              "    <tr>\n",
              "      <th>0</th>\n",
              "      <td>1</td>\n",
              "      <td>2013</td>\n",
              "      <td>3</td>\n",
              "      <td>1</td>\n",
              "      <td>0</td>\n",
              "      <td>4.0</td>\n",
              "      <td>4.0</td>\n",
              "      <td>4.0</td>\n",
              "      <td>7.0</td>\n",
              "      <td>300.0</td>\n",
              "      <td>77.0</td>\n",
              "      <td>-0.7</td>\n",
              "      <td>1023.0</td>\n",
              "      <td>-18.8</td>\n",
              "      <td>0.0</td>\n",
              "      <td>NNW</td>\n",
              "      <td>4.4</td>\n",
              "      <td>Aotizhongxin</td>\n",
              "    </tr>\n",
              "    <tr>\n",
              "      <th>1</th>\n",
              "      <td>2</td>\n",
              "      <td>2013</td>\n",
              "      <td>3</td>\n",
              "      <td>1</td>\n",
              "      <td>1</td>\n",
              "      <td>8.0</td>\n",
              "      <td>8.0</td>\n",
              "      <td>4.0</td>\n",
              "      <td>7.0</td>\n",
              "      <td>300.0</td>\n",
              "      <td>77.0</td>\n",
              "      <td>-1.1</td>\n",
              "      <td>1023.2</td>\n",
              "      <td>-18.2</td>\n",
              "      <td>0.0</td>\n",
              "      <td>N</td>\n",
              "      <td>4.7</td>\n",
              "      <td>Aotizhongxin</td>\n",
              "    </tr>\n",
              "    <tr>\n",
              "      <th>2</th>\n",
              "      <td>3</td>\n",
              "      <td>2013</td>\n",
              "      <td>3</td>\n",
              "      <td>1</td>\n",
              "      <td>2</td>\n",
              "      <td>7.0</td>\n",
              "      <td>7.0</td>\n",
              "      <td>5.0</td>\n",
              "      <td>10.0</td>\n",
              "      <td>300.0</td>\n",
              "      <td>73.0</td>\n",
              "      <td>-1.1</td>\n",
              "      <td>1023.5</td>\n",
              "      <td>-18.2</td>\n",
              "      <td>0.0</td>\n",
              "      <td>NNW</td>\n",
              "      <td>5.6</td>\n",
              "      <td>Aotizhongxin</td>\n",
              "    </tr>\n",
              "    <tr>\n",
              "      <th>3</th>\n",
              "      <td>4</td>\n",
              "      <td>2013</td>\n",
              "      <td>3</td>\n",
              "      <td>1</td>\n",
              "      <td>3</td>\n",
              "      <td>6.0</td>\n",
              "      <td>6.0</td>\n",
              "      <td>11.0</td>\n",
              "      <td>11.0</td>\n",
              "      <td>300.0</td>\n",
              "      <td>72.0</td>\n",
              "      <td>-1.4</td>\n",
              "      <td>1024.5</td>\n",
              "      <td>-19.4</td>\n",
              "      <td>0.0</td>\n",
              "      <td>NW</td>\n",
              "      <td>3.1</td>\n",
              "      <td>Aotizhongxin</td>\n",
              "    </tr>\n",
              "    <tr>\n",
              "      <th>4</th>\n",
              "      <td>5</td>\n",
              "      <td>2013</td>\n",
              "      <td>3</td>\n",
              "      <td>1</td>\n",
              "      <td>4</td>\n",
              "      <td>3.0</td>\n",
              "      <td>3.0</td>\n",
              "      <td>12.0</td>\n",
              "      <td>12.0</td>\n",
              "      <td>300.0</td>\n",
              "      <td>72.0</td>\n",
              "      <td>-2.0</td>\n",
              "      <td>1025.2</td>\n",
              "      <td>-19.5</td>\n",
              "      <td>0.0</td>\n",
              "      <td>N</td>\n",
              "      <td>2.0</td>\n",
              "      <td>Aotizhongxin</td>\n",
              "    </tr>\n",
              "  </tbody>\n",
              "</table>\n",
              "</div>\n",
              "    <div class=\"colab-df-buttons\">\n",
              "\n",
              "  <div class=\"colab-df-container\">\n",
              "    <button class=\"colab-df-convert\" onclick=\"convertToInteractive('df-0506735c-fdff-4865-aca4-205837dc33f6')\"\n",
              "            title=\"Convert this dataframe to an interactive table.\"\n",
              "            style=\"display:none;\">\n",
              "\n",
              "  <svg xmlns=\"http://www.w3.org/2000/svg\" height=\"24px\" viewBox=\"0 -960 960 960\">\n",
              "    <path d=\"M120-120v-720h720v720H120Zm60-500h600v-160H180v160Zm220 220h160v-160H400v160Zm0 220h160v-160H400v160ZM180-400h160v-160H180v160Zm440 0h160v-160H620v160ZM180-180h160v-160H180v160Zm440 0h160v-160H620v160Z\"/>\n",
              "  </svg>\n",
              "    </button>\n",
              "\n",
              "  <style>\n",
              "    .colab-df-container {\n",
              "      display:flex;\n",
              "      gap: 12px;\n",
              "    }\n",
              "\n",
              "    .colab-df-convert {\n",
              "      background-color: #E8F0FE;\n",
              "      border: none;\n",
              "      border-radius: 50%;\n",
              "      cursor: pointer;\n",
              "      display: none;\n",
              "      fill: #1967D2;\n",
              "      height: 32px;\n",
              "      padding: 0 0 0 0;\n",
              "      width: 32px;\n",
              "    }\n",
              "\n",
              "    .colab-df-convert:hover {\n",
              "      background-color: #E2EBFA;\n",
              "      box-shadow: 0px 1px 2px rgba(60, 64, 67, 0.3), 0px 1px 3px 1px rgba(60, 64, 67, 0.15);\n",
              "      fill: #174EA6;\n",
              "    }\n",
              "\n",
              "    .colab-df-buttons div {\n",
              "      margin-bottom: 4px;\n",
              "    }\n",
              "\n",
              "    [theme=dark] .colab-df-convert {\n",
              "      background-color: #3B4455;\n",
              "      fill: #D2E3FC;\n",
              "    }\n",
              "\n",
              "    [theme=dark] .colab-df-convert:hover {\n",
              "      background-color: #434B5C;\n",
              "      box-shadow: 0px 1px 3px 1px rgba(0, 0, 0, 0.15);\n",
              "      filter: drop-shadow(0px 1px 2px rgba(0, 0, 0, 0.3));\n",
              "      fill: #FFFFFF;\n",
              "    }\n",
              "  </style>\n",
              "\n",
              "    <script>\n",
              "      const buttonEl =\n",
              "        document.querySelector('#df-0506735c-fdff-4865-aca4-205837dc33f6 button.colab-df-convert');\n",
              "      buttonEl.style.display =\n",
              "        google.colab.kernel.accessAllowed ? 'block' : 'none';\n",
              "\n",
              "      async function convertToInteractive(key) {\n",
              "        const element = document.querySelector('#df-0506735c-fdff-4865-aca4-205837dc33f6');\n",
              "        const dataTable =\n",
              "          await google.colab.kernel.invokeFunction('convertToInteractive',\n",
              "                                                    [key], {});\n",
              "        if (!dataTable) return;\n",
              "\n",
              "        const docLinkHtml = 'Like what you see? Visit the ' +\n",
              "          '<a target=\"_blank\" href=https://colab.research.google.com/notebooks/data_table.ipynb>data table notebook</a>'\n",
              "          + ' to learn more about interactive tables.';\n",
              "        element.innerHTML = '';\n",
              "        dataTable['output_type'] = 'display_data';\n",
              "        await google.colab.output.renderOutput(dataTable, element);\n",
              "        const docLink = document.createElement('div');\n",
              "        docLink.innerHTML = docLinkHtml;\n",
              "        element.appendChild(docLink);\n",
              "      }\n",
              "    </script>\n",
              "  </div>\n",
              "\n",
              "\n",
              "<div id=\"df-03752b47-fab4-44d3-8932-6de117d8d183\">\n",
              "  <button class=\"colab-df-quickchart\" onclick=\"quickchart('df-03752b47-fab4-44d3-8932-6de117d8d183')\"\n",
              "            title=\"Suggest charts\"\n",
              "            style=\"display:none;\">\n",
              "\n",
              "<svg xmlns=\"http://www.w3.org/2000/svg\" height=\"24px\"viewBox=\"0 0 24 24\"\n",
              "     width=\"24px\">\n",
              "    <g>\n",
              "        <path d=\"M19 3H5c-1.1 0-2 .9-2 2v14c0 1.1.9 2 2 2h14c1.1 0 2-.9 2-2V5c0-1.1-.9-2-2-2zM9 17H7v-7h2v7zm4 0h-2V7h2v10zm4 0h-2v-4h2v4z\"/>\n",
              "    </g>\n",
              "</svg>\n",
              "  </button>\n",
              "\n",
              "<style>\n",
              "  .colab-df-quickchart {\n",
              "      --bg-color: #E8F0FE;\n",
              "      --fill-color: #1967D2;\n",
              "      --hover-bg-color: #E2EBFA;\n",
              "      --hover-fill-color: #174EA6;\n",
              "      --disabled-fill-color: #AAA;\n",
              "      --disabled-bg-color: #DDD;\n",
              "  }\n",
              "\n",
              "  [theme=dark] .colab-df-quickchart {\n",
              "      --bg-color: #3B4455;\n",
              "      --fill-color: #D2E3FC;\n",
              "      --hover-bg-color: #434B5C;\n",
              "      --hover-fill-color: #FFFFFF;\n",
              "      --disabled-bg-color: #3B4455;\n",
              "      --disabled-fill-color: #666;\n",
              "  }\n",
              "\n",
              "  .colab-df-quickchart {\n",
              "    background-color: var(--bg-color);\n",
              "    border: none;\n",
              "    border-radius: 50%;\n",
              "    cursor: pointer;\n",
              "    display: none;\n",
              "    fill: var(--fill-color);\n",
              "    height: 32px;\n",
              "    padding: 0;\n",
              "    width: 32px;\n",
              "  }\n",
              "\n",
              "  .colab-df-quickchart:hover {\n",
              "    background-color: var(--hover-bg-color);\n",
              "    box-shadow: 0 1px 2px rgba(60, 64, 67, 0.3), 0 1px 3px 1px rgba(60, 64, 67, 0.15);\n",
              "    fill: var(--button-hover-fill-color);\n",
              "  }\n",
              "\n",
              "  .colab-df-quickchart-complete:disabled,\n",
              "  .colab-df-quickchart-complete:disabled:hover {\n",
              "    background-color: var(--disabled-bg-color);\n",
              "    fill: var(--disabled-fill-color);\n",
              "    box-shadow: none;\n",
              "  }\n",
              "\n",
              "  .colab-df-spinner {\n",
              "    border: 2px solid var(--fill-color);\n",
              "    border-color: transparent;\n",
              "    border-bottom-color: var(--fill-color);\n",
              "    animation:\n",
              "      spin 1s steps(1) infinite;\n",
              "  }\n",
              "\n",
              "  @keyframes spin {\n",
              "    0% {\n",
              "      border-color: transparent;\n",
              "      border-bottom-color: var(--fill-color);\n",
              "      border-left-color: var(--fill-color);\n",
              "    }\n",
              "    20% {\n",
              "      border-color: transparent;\n",
              "      border-left-color: var(--fill-color);\n",
              "      border-top-color: var(--fill-color);\n",
              "    }\n",
              "    30% {\n",
              "      border-color: transparent;\n",
              "      border-left-color: var(--fill-color);\n",
              "      border-top-color: var(--fill-color);\n",
              "      border-right-color: var(--fill-color);\n",
              "    }\n",
              "    40% {\n",
              "      border-color: transparent;\n",
              "      border-right-color: var(--fill-color);\n",
              "      border-top-color: var(--fill-color);\n",
              "    }\n",
              "    60% {\n",
              "      border-color: transparent;\n",
              "      border-right-color: var(--fill-color);\n",
              "    }\n",
              "    80% {\n",
              "      border-color: transparent;\n",
              "      border-right-color: var(--fill-color);\n",
              "      border-bottom-color: var(--fill-color);\n",
              "    }\n",
              "    90% {\n",
              "      border-color: transparent;\n",
              "      border-bottom-color: var(--fill-color);\n",
              "    }\n",
              "  }\n",
              "</style>\n",
              "\n",
              "  <script>\n",
              "    async function quickchart(key) {\n",
              "      const quickchartButtonEl =\n",
              "        document.querySelector('#' + key + ' button');\n",
              "      quickchartButtonEl.disabled = true;  // To prevent multiple clicks.\n",
              "      quickchartButtonEl.classList.add('colab-df-spinner');\n",
              "      try {\n",
              "        const charts = await google.colab.kernel.invokeFunction(\n",
              "            'suggestCharts', [key], {});\n",
              "      } catch (error) {\n",
              "        console.error('Error during call to suggestCharts:', error);\n",
              "      }\n",
              "      quickchartButtonEl.classList.remove('colab-df-spinner');\n",
              "      quickchartButtonEl.classList.add('colab-df-quickchart-complete');\n",
              "    }\n",
              "    (() => {\n",
              "      let quickchartButtonEl =\n",
              "        document.querySelector('#df-03752b47-fab4-44d3-8932-6de117d8d183 button');\n",
              "      quickchartButtonEl.style.display =\n",
              "        google.colab.kernel.accessAllowed ? 'block' : 'none';\n",
              "    })();\n",
              "  </script>\n",
              "</div>\n",
              "\n",
              "    </div>\n",
              "  </div>\n"
            ],
            "application/vnd.google.colaboratory.intrinsic+json": {
              "type": "dataframe",
              "variable_name": "df",
              "summary": "{\n  \"name\": \"df\",\n  \"rows\": 25250,\n  \"fields\": [\n    {\n      \"column\": \"No\",\n      \"properties\": {\n        \"dtype\": \"number\",\n        \"std\": 8062,\n        \"min\": 1,\n        \"max\": 28051,\n        \"num_unique_values\": 25250,\n        \"samples\": [\n          11069,\n          6434,\n          10812\n        ],\n        \"semantic_type\": \"\",\n        \"description\": \"\"\n      }\n    },\n    {\n      \"column\": \"year\",\n      \"properties\": {\n        \"dtype\": \"number\",\n        \"std\": 0,\n        \"min\": 2013,\n        \"max\": 2016,\n        \"num_unique_values\": 4,\n        \"samples\": [\n          2014,\n          2016,\n          2013\n        ],\n        \"semantic_type\": \"\",\n        \"description\": \"\"\n      }\n    },\n    {\n      \"column\": \"month\",\n      \"properties\": {\n        \"dtype\": \"number\",\n        \"std\": 3,\n        \"min\": 1,\n        \"max\": 12,\n        \"num_unique_values\": 12,\n        \"samples\": [\n          1,\n          12,\n          3\n        ],\n        \"semantic_type\": \"\",\n        \"description\": \"\"\n      }\n    },\n    {\n      \"column\": \"day\",\n      \"properties\": {\n        \"dtype\": \"number\",\n        \"std\": 8,\n        \"min\": 1,\n        \"max\": 31,\n        \"num_unique_values\": 31,\n        \"samples\": [\n          29,\n          16,\n          25\n        ],\n        \"semantic_type\": \"\",\n        \"description\": \"\"\n      }\n    },\n    {\n      \"column\": \"hour\",\n      \"properties\": {\n        \"dtype\": \"number\",\n        \"std\": 6,\n        \"min\": 0,\n        \"max\": 23,\n        \"num_unique_values\": 24,\n        \"samples\": [\n          8,\n          16,\n          0\n        ],\n        \"semantic_type\": \"\",\n        \"description\": \"\"\n      }\n    },\n    {\n      \"column\": \"PM2.5\",\n      \"properties\": {\n        \"dtype\": \"number\",\n        \"std\": 79.50649892195274,\n        \"min\": 3.0,\n        \"max\": 898.0,\n        \"num_unique_values\": 490,\n        \"samples\": [\n          399.0,\n          175.0,\n          351.0\n        ],\n        \"semantic_type\": \"\",\n        \"description\": \"\"\n      }\n    },\n    {\n      \"column\": \"PM10\",\n      \"properties\": {\n        \"dtype\": \"number\",\n        \"std\": 94.57601217118847,\n        \"min\": 2.0,\n        \"max\": 948.0,\n        \"num_unique_values\": 582,\n        \"samples\": [\n          507.0,\n          302.0,\n          319.0\n        ],\n        \"semantic_type\": \"\",\n        \"description\": \"\"\n      }\n    },\n    {\n      \"column\": \"SO2\",\n      \"properties\": {\n        \"dtype\": \"number\",\n        \"std\": 24.330991103702388,\n        \"min\": 0.5712,\n        \"max\": 341.0,\n        \"num_unique_values\": 256,\n        \"samples\": [\n          150.0,\n          16.0,\n          154.0\n        ],\n        \"semantic_type\": \"\",\n        \"description\": \"\"\n      }\n    },\n    {\n      \"column\": \"NO2\",\n      \"properties\": {\n        \"dtype\": \"number\",\n        \"std\": 36.683793045889644,\n        \"min\": 2.0,\n        \"max\": 290.0,\n        \"num_unique_values\": 244,\n        \"samples\": [\n          58.0,\n          41.0,\n          22.0\n        ],\n        \"semantic_type\": \"\",\n        \"description\": \"\"\n      }\n    },\n    {\n      \"column\": \"CO\",\n      \"properties\": {\n        \"dtype\": \"number\",\n        \"std\": 1178.4813592049786,\n        \"min\": 100.0,\n        \"max\": 10000.0,\n        \"num_unique_values\": 110,\n        \"samples\": [\n          8900.0,\n          1300.0,\n          700.0\n        ],\n        \"semantic_type\": \"\",\n        \"description\": \"\"\n      }\n    },\n    {\n      \"column\": \"O3\",\n      \"properties\": {\n        \"dtype\": \"number\",\n        \"std\": 56.02957295380172,\n        \"min\": 0.2142,\n        \"max\": 423.0,\n        \"num_unique_values\": 533,\n        \"samples\": [\n          45.0,\n          258.0,\n          37.0\n        ],\n        \"semantic_type\": \"\",\n        \"description\": \"\"\n      }\n    },\n    {\n      \"column\": \"TEMP\",\n      \"properties\": {\n        \"dtype\": \"number\",\n        \"std\": 11.105774081527269,\n        \"min\": -16.8,\n        \"max\": 40.5,\n        \"num_unique_values\": 530,\n        \"samples\": [\n          11.2,\n          36.3,\n          -1.6\n        ],\n        \"semantic_type\": \"\",\n        \"description\": \"\"\n      }\n    },\n    {\n      \"column\": \"PRES\",\n      \"properties\": {\n        \"dtype\": \"number\",\n        \"std\": 10.188684477101601,\n        \"min\": 985.9,\n        \"max\": 1042.0,\n        \"num_unique_values\": 525,\n        \"samples\": [\n          1001.0,\n          1027.8,\n          1026.5\n        ],\n        \"semantic_type\": \"\",\n        \"description\": \"\"\n      }\n    },\n    {\n      \"column\": \"DEWP\",\n      \"properties\": {\n        \"dtype\": \"number\",\n        \"std\": 13.55906321479078,\n        \"min\": -35.3,\n        \"max\": 28.5,\n        \"num_unique_values\": 601,\n        \"samples\": [\n          -1.3,\n          22.2,\n          -30.8\n        ],\n        \"semantic_type\": \"\",\n        \"description\": \"\"\n      }\n    },\n    {\n      \"column\": \"RAIN\",\n      \"properties\": {\n        \"dtype\": \"number\",\n        \"std\": 0.7447001547590383,\n        \"min\": 0.0,\n        \"max\": 40.7,\n        \"num_unique_values\": 106,\n        \"samples\": [\n          7.3,\n          1.0,\n          0.2\n        ],\n        \"semantic_type\": \"\",\n        \"description\": \"\"\n      }\n    },\n    {\n      \"column\": \"wd\",\n      \"properties\": {\n        \"dtype\": \"category\",\n        \"num_unique_values\": 16,\n        \"samples\": [\n          \"NNW\",\n          \"N\",\n          \"E\"\n        ],\n        \"semantic_type\": \"\",\n        \"description\": \"\"\n      }\n    },\n    {\n      \"column\": \"WSPM\",\n      \"properties\": {\n        \"dtype\": \"number\",\n        \"std\": 1.2391856787817208,\n        \"min\": 0.0,\n        \"max\": 11.2,\n        \"num_unique_values\": 88,\n        \"samples\": [\n          6.9,\n          4.4,\n          1.5\n        ],\n        \"semantic_type\": \"\",\n        \"description\": \"\"\n      }\n    },\n    {\n      \"column\": \"station\",\n      \"properties\": {\n        \"dtype\": \"category\",\n        \"num_unique_values\": 1,\n        \"samples\": [\n          \"Aotizhongxin\"\n        ],\n        \"semantic_type\": \"\",\n        \"description\": \"\"\n      }\n    }\n  ]\n}"
            }
          },
          "metadata": {},
          "execution_count": 4
        }
      ]
    },
    {
      "cell_type": "code",
      "source": [
        "# Assuming 'df' is your DataFrame containing the dataset\n",
        "# Selecting the specified features: PM2.5, TEMP, NO2, SO2, DEWP, O3, WSPM, RAIN\n",
        "# Adjust the column indices according to your DataFrame structure\n",
        "features_columns = ['PM2.5', 'TEMP', 'NO2', 'SO2', 'DEWP', 'O3', 'WSPM', 'RAIN']  # Use the actual column names from your DataFrame\n",
        "\n",
        "# Select all rows for these features\n",
        "training_set = df[features_columns].values\n",
        "\n",
        "# Check the length of the training_set\n",
        "length_of_training_set = len(training_set)\n",
        "print(length_of_training_set)\n"
      ],
      "metadata": {
        "colab": {
          "base_uri": "https://localhost:8080/"
        },
        "id": "YvpM5Xj0Egsb",
        "outputId": "b30d3027-526e-43d2-f563-1d488ba51c7a"
      },
      "execution_count": null,
      "outputs": [
        {
          "output_type": "stream",
          "name": "stdout",
          "text": [
            "25977\n"
          ]
        }
      ]
    },
    {
      "cell_type": "code",
      "source": [
        "training_set = training_set[-5000:]"
      ],
      "metadata": {
        "id": "0QRi-giz87y_"
      },
      "execution_count": null,
      "outputs": []
    },
    {
      "cell_type": "markdown",
      "source": [
        "**Feature Scaling**"
      ],
      "metadata": {
        "id": "c8FS_BS3IBMd"
      }
    },
    {
      "cell_type": "code",
      "metadata": {
        "id": "OTrF2kR7gx9x"
      },
      "source": [
        "# normalize your data for BiLSTM\n",
        "sc = MinMaxScaler(feature_range = (0,1))\n",
        "training_set_scaled = sc.fit_transform(training_set)"
      ],
      "execution_count": null,
      "outputs": []
    },
    {
      "cell_type": "code",
      "source": [
        "lag = 48  # Number of hours to use as input to predict the next hour\n",
        "n_obs = 5000  # Adjust this if needed based on your dataset size after preprocessing\n",
        "features = 8  # Total number of features included\n",
        "\n",
        "X_train = []\n",
        "y_train = []\n",
        "\n",
        "# Ensure you're selecting all features for X_train and only the PM2.5 values for y_train\n",
        "for i in range(lag, n_obs):\n",
        "    X_train.append(training_set_scaled[i-lag:i, :])  # Include all features in the lagged window\n",
        "    y_train.append(training_set_scaled[i, 0])  # Assuming PM2.5 is the first feature for prediction\n",
        "\n",
        "# Convert lists to numpy arrays for training the LSTM\n",
        "X_train, y_train = np.array(X_train), np.array(y_train)\n",
        "\n",
        "# Now, X_train should have the shape [samples, timesteps, features]\n",
        "print(X_train.shape)  # Expected shape: (number of samples, lag, features)\n",
        "\n"
      ],
      "metadata": {
        "colab": {
          "base_uri": "https://localhost:8080/"
        },
        "id": "UrWdKwtaJ4LT",
        "outputId": "31779a28-8377-4f11-d5a4-d0856d7f5f5a"
      },
      "execution_count": null,
      "outputs": [
        {
          "output_type": "stream",
          "name": "stdout",
          "text": [
            "(4952, 48, 8)\n"
          ]
        }
      ]
    },
    {
      "cell_type": "code",
      "source": [
        "X_train.shape"
      ],
      "metadata": {
        "colab": {
          "base_uri": "https://localhost:8080/"
        },
        "id": "vmmO8GNkJpl-",
        "outputId": "fd1ce497-ff68-4230-fbf2-c64532e9892c"
      },
      "execution_count": null,
      "outputs": [
        {
          "output_type": "execute_result",
          "data": {
            "text/plain": [
              "(4952, 48, 1)"
            ]
          },
          "metadata": {},
          "execution_count": 73
        }
      ]
    },
    {
      "cell_type": "markdown",
      "source": [
        "# **BI LSTM**"
      ],
      "metadata": {
        "id": "5rJvHsEfIO3B"
      }
    },
    {
      "cell_type": "markdown",
      "source": [
        "without tuning hyperparameters"
      ],
      "metadata": {
        "id": "fU2xjq1QDl0k"
      }
    },
    {
      "cell_type": "code",
      "source": [
        "from tensorflow.keras.models import Sequential\n",
        "from tensorflow.keras.layers import Bidirectional, LSTM, Dropout, Dense\n",
        "from tensorflow.keras.optimizers import Adam\n",
        "\n",
        "model = Sequential()\n",
        "\n",
        "# Adding the first Bidirectional BiLSTM layer with 200 units\n",
        "model.add(Bidirectional(LSTM(units=200, return_sequences=True), input_shape=(X_train.shape[1], X_train.shape[2])))\n",
        "model.add(Dropout(rate=0.1))  # Applying 10% dropout\n",
        "\n",
        "# Adding a second Bidirectional BiLSTM layer with 100 units\n",
        "model.add(Bidirectional(LSTM(units=100, return_sequences=True)))\n",
        "model.add(Dropout(rate=0.1))  # Applying 10% dropout\n",
        "\n",
        "# Adding the third Bidirectional BiLSTM layer with 50 units, return_sequences=True allows stacking another LSTM layer\n",
        "model.add(Bidirectional(LSTM(units=50, return_sequences=True)))\n",
        "model.add(Dropout(rate=0.1))  # Applying 10% dropout\n",
        "\n",
        "# Adding the last Bidirectional BiLSTM layer with 50 units\n",
        "# This is the last LSTM layer, so return_sequences is not needed\n",
        "model.add(Bidirectional(LSTM(units=50)))\n",
        "model.add(Dropout(rate=0.1))  # Applying 10% dropout\n",
        "\n",
        "# Adding the output layer\n",
        "model.add(Dense(units=1))"
      ],
      "metadata": {
        "id": "sWoHqDMXINFh"
      },
      "execution_count": null,
      "outputs": []
    },
    {
      "cell_type": "code",
      "source": [
        "model.summary()\n"
      ],
      "metadata": {
        "colab": {
          "base_uri": "https://localhost:8080/"
        },
        "id": "bQKo_L0kKFzL",
        "outputId": "c84bfc8c-8f03-4a63-c4e5-98299555ba85"
      },
      "execution_count": null,
      "outputs": [
        {
          "output_type": "stream",
          "name": "stdout",
          "text": [
            "Model: \"sequential\"\n",
            "_________________________________________________________________\n",
            " Layer (type)                Output Shape              Param #   \n",
            "=================================================================\n",
            " bidirectional (Bidirection  (None, 48, 400)           334400    \n",
            " al)                                                             \n",
            "                                                                 \n",
            " dropout (Dropout)           (None, 48, 400)           0         \n",
            "                                                                 \n",
            " bidirectional_1 (Bidirecti  (None, 48, 200)           400800    \n",
            " onal)                                                           \n",
            "                                                                 \n",
            " dropout_1 (Dropout)         (None, 48, 200)           0         \n",
            "                                                                 \n",
            " bidirectional_2 (Bidirecti  (None, 48, 100)           100400    \n",
            " onal)                                                           \n",
            "                                                                 \n",
            " dropout_2 (Dropout)         (None, 48, 100)           0         \n",
            "                                                                 \n",
            " bidirectional_3 (Bidirecti  (None, 100)               60400     \n",
            " onal)                                                           \n",
            "                                                                 \n",
            " dropout_3 (Dropout)         (None, 100)               0         \n",
            "                                                                 \n",
            " dense (Dense)               (None, 1)                 101       \n",
            "                                                                 \n",
            "=================================================================\n",
            "Total params: 896101 (3.42 MB)\n",
            "Trainable params: 896101 (3.42 MB)\n",
            "Non-trainable params: 0 (0.00 Byte)\n",
            "_________________________________________________________________\n"
          ]
        }
      ]
    },
    {
      "cell_type": "markdown",
      "source": [
        "Fitting the BI LSTM to the Training set"
      ],
      "metadata": {
        "id": "aUszimhAKYa3"
      }
    },
    {
      "cell_type": "code",
      "source": [
        "# Compiling the BiLSTM\n",
        "model.compile(optimizer = 'adam', loss = 'mean_squared_error')\n",
        "# Fitting\n",
        "model.fit(X_train, y_train, epochs=50, batch_size=32)"
      ],
      "metadata": {
        "colab": {
          "base_uri": "https://localhost:8080/"
        },
        "id": "ubWOIdBLKZdD",
        "outputId": "64d5ee99-ab34-4fda-e83f-9a343ae7eddd"
      },
      "execution_count": null,
      "outputs": [
        {
          "output_type": "stream",
          "name": "stdout",
          "text": [
            "Epoch 1/50\n",
            "155/155 [==============================] - 86s 453ms/step - loss: 0.0066\n",
            "Epoch 2/50\n",
            "155/155 [==============================] - 70s 452ms/step - loss: 0.0024\n",
            "Epoch 3/50\n",
            "155/155 [==============================] - 70s 454ms/step - loss: 0.0020\n",
            "Epoch 4/50\n",
            "155/155 [==============================] - 68s 440ms/step - loss: 0.0016\n",
            "Epoch 5/50\n",
            "155/155 [==============================] - 70s 455ms/step - loss: 0.0014\n",
            "Epoch 6/50\n",
            "155/155 [==============================] - 69s 446ms/step - loss: 0.0015\n",
            "Epoch 7/50\n",
            "155/155 [==============================] - 68s 438ms/step - loss: 0.0013\n",
            "Epoch 8/50\n",
            "155/155 [==============================] - 71s 458ms/step - loss: 0.0012\n",
            "Epoch 9/50\n",
            "155/155 [==============================] - 69s 447ms/step - loss: 0.0012\n",
            "Epoch 10/50\n",
            "155/155 [==============================] - 70s 454ms/step - loss: 0.0011\n",
            "Epoch 11/50\n",
            "155/155 [==============================] - 70s 449ms/step - loss: 0.0011\n",
            "Epoch 12/50\n",
            "155/155 [==============================] - 71s 458ms/step - loss: 0.0012\n",
            "Epoch 13/50\n",
            "155/155 [==============================] - 68s 440ms/step - loss: 0.0011\n",
            "Epoch 14/50\n",
            "155/155 [==============================] - 70s 450ms/step - loss: 0.0011\n",
            "Epoch 15/50\n",
            "155/155 [==============================] - 71s 456ms/step - loss: 0.0011\n",
            "Epoch 16/50\n",
            "155/155 [==============================] - 67s 435ms/step - loss: 9.5310e-04\n",
            "Epoch 17/50\n",
            "155/155 [==============================] - 71s 458ms/step - loss: 9.7185e-04\n",
            "Epoch 18/50\n",
            "155/155 [==============================] - 69s 446ms/step - loss: 9.3183e-04\n",
            "Epoch 19/50\n",
            "155/155 [==============================] - 69s 443ms/step - loss: 9.1634e-04\n",
            "Epoch 20/50\n",
            "155/155 [==============================] - 70s 446ms/step - loss: 8.8433e-04\n",
            "Epoch 21/50\n",
            "155/155 [==============================] - 68s 439ms/step - loss: 9.9832e-04\n",
            "Epoch 22/50\n",
            "155/155 [==============================] - 67s 431ms/step - loss: 8.5219e-04\n",
            "Epoch 23/50\n",
            "155/155 [==============================] - 69s 444ms/step - loss: 8.5301e-04\n",
            "Epoch 24/50\n",
            "155/155 [==============================] - 68s 437ms/step - loss: 9.2764e-04\n",
            "Epoch 25/50\n",
            "155/155 [==============================] - 68s 439ms/step - loss: 8.4209e-04\n",
            "Epoch 26/50\n",
            "155/155 [==============================] - 69s 441ms/step - loss: 9.0506e-04\n",
            "Epoch 27/50\n",
            "155/155 [==============================] - 66s 428ms/step - loss: 8.2497e-04\n",
            "Epoch 28/50\n",
            "155/155 [==============================] - 68s 441ms/step - loss: 8.4302e-04\n",
            "Epoch 29/50\n",
            "155/155 [==============================] - 70s 450ms/step - loss: 8.2595e-04\n",
            "Epoch 30/50\n",
            "155/155 [==============================] - 67s 433ms/step - loss: 8.4419e-04\n",
            "Epoch 31/50\n",
            "155/155 [==============================] - 68s 438ms/step - loss: 8.7640e-04\n",
            "Epoch 32/50\n",
            "155/155 [==============================] - 69s 445ms/step - loss: 7.9785e-04\n",
            "Epoch 33/50\n",
            "155/155 [==============================] - 67s 433ms/step - loss: 7.9237e-04\n",
            "Epoch 34/50\n",
            "155/155 [==============================] - 69s 445ms/step - loss: 8.0479e-04\n",
            "Epoch 35/50\n",
            "155/155 [==============================] - 70s 453ms/step - loss: 8.1221e-04\n",
            "Epoch 36/50\n",
            "155/155 [==============================] - 67s 434ms/step - loss: 8.1342e-04\n",
            "Epoch 37/50\n",
            "155/155 [==============================] - 68s 440ms/step - loss: 7.9314e-04\n",
            "Epoch 38/50\n",
            "155/155 [==============================] - 70s 450ms/step - loss: 8.4835e-04\n",
            "Epoch 39/50\n",
            "155/155 [==============================] - 67s 434ms/step - loss: 8.1054e-04\n",
            "Epoch 40/50\n",
            "155/155 [==============================] - 68s 442ms/step - loss: 7.6401e-04\n",
            "Epoch 41/50\n",
            "155/155 [==============================] - 68s 438ms/step - loss: 8.0745e-04\n",
            "Epoch 42/50\n",
            "155/155 [==============================] - 69s 443ms/step - loss: 7.6474e-04\n",
            "Epoch 43/50\n",
            "155/155 [==============================] - 69s 445ms/step - loss: 7.8622e-04\n",
            "Epoch 44/50\n",
            "155/155 [==============================] - 67s 433ms/step - loss: 7.9819e-04\n",
            "Epoch 45/50\n",
            "155/155 [==============================] - 68s 439ms/step - loss: 7.5398e-04\n",
            "Epoch 46/50\n",
            "155/155 [==============================] - 68s 439ms/step - loss: 7.5197e-04\n",
            "Epoch 47/50\n",
            "155/155 [==============================] - 67s 432ms/step - loss: 7.7731e-04\n",
            "Epoch 48/50\n",
            "155/155 [==============================] - 67s 436ms/step - loss: 6.9984e-04\n",
            "Epoch 49/50\n",
            "155/155 [==============================] - 68s 438ms/step - loss: 7.4856e-04\n",
            "Epoch 50/50\n",
            "155/155 [==============================] - 67s 430ms/step - loss: 7.7567e-04\n"
          ]
        },
        {
          "output_type": "execute_result",
          "data": {
            "text/plain": [
              "<keras.src.callbacks.History at 0x7e1de9ebe320>"
            ]
          },
          "metadata": {},
          "execution_count": 10
        }
      ]
    },
    {
      "cell_type": "markdown",
      "source": [
        "Making the predictions and visualising the results"
      ],
      "metadata": {
        "id": "oI4KjojnKu9h"
      }
    },
    {
      "cell_type": "code",
      "source": [
        "# transform and create sequences for Test data\n",
        "dataset_test = pd.read_csv('/content/Test.csv')\n"
      ],
      "metadata": {
        "id": "lRA615D4L5tk"
      },
      "execution_count": null,
      "outputs": []
    },
    {
      "cell_type": "code",
      "source": [
        "# Assuming 'sc' is your MinMaxScaler fitted on the training data\n",
        "# And 'dataset_test' is your raw test dataset loaded from '/content/Test.csv'\n",
        "\n",
        "# Load the test dataset (already done)\n",
        "dataset_test = pd.read_csv('/content/Test.csv')\n",
        "\n",
        "# Drop rows with NaN values in any of the columns you're using\n",
        "dataset_test.dropna(subset=['PM2.5', 'TEMP', 'NO2', 'SO2', 'DEWP', 'O3', 'WSPM', 'RAIN'], inplace=True)\n",
        "\n",
        "# Scale the test data using the same scaler as the training data\n",
        "# Make sure to select the same features in the same order as the training set\n",
        "test_features = dataset_test[['PM2.5', 'TEMP', 'NO2', 'SO2', 'DEWP', 'O3', 'WSPM', 'RAIN']].values\n",
        "test_features_scaled = sc.transform(test_features)\n",
        "\n",
        "# Prepare sequences for testing\n",
        "X_test = []\n",
        "for i in range(lag, len(test_features_scaled)):\n",
        "    X_test.append(test_features_scaled[i-lag:i])  # Use all features\n",
        "\n",
        "X_test = np.array(X_test)\n",
        "\n",
        "# Reshape X_test if necessary (it might already be in the correct shape)\n",
        "# X_test should now be shaped [samples, timesteps, features]\n",
        "# No need to reshape based on the previous step since it already considers all features\n",
        "\n",
        "# Make predictions\n",
        "pred_PM2 = model.predict(X_test)\n",
        "\n",
        "# Depending on your model's output, you might need to inverse scale the predictions\n",
        "# If you scaled your target variable (PM2.5) during training\n"
      ],
      "metadata": {
        "colab": {
          "base_uri": "https://localhost:8080/"
        },
        "id": "2xUe5pzKA5AS",
        "outputId": "00642b75-98fa-4de2-80bb-55b685d4bc4c"
      },
      "execution_count": null,
      "outputs": [
        {
          "output_type": "stream",
          "name": "stdout",
          "text": [
            "207/207 [==============================] - 30s 127ms/step\n"
          ]
        }
      ]
    },
    {
      "cell_type": "code",
      "source": [
        "# Assume pred_PM2 is your predictions with shape (num_samples, 1)\n",
        "# Create an array with the same number of columns as the original scaled data\n",
        "pred_full = np.zeros((pred_PM2.shape[0], 8))  # 8 for the number of features you have\n",
        "\n",
        "# Assuming PM2.5 is the first column, fill in your predictions there\n",
        "pred_full[:, 0] = pred_PM2.ravel()  # Use ravel() to ensure it's a 1D array\n",
        "\n",
        "# Perform the inverse transformation\n",
        "pred_full_inverse = sc.inverse_transform(pred_full)\n",
        "\n",
        "# Extract the PM2.5 predictions after inverse transforming\n",
        "pred_PM2_inverse = pred_full_inverse[:, 0]\n",
        "\n"
      ],
      "metadata": {
        "id": "cUZalvWChwRF"
      },
      "execution_count": null,
      "outputs": []
    },
    {
      "cell_type": "code",
      "source": [
        "# Assuming dataset_test is your test DataFrame and it's already preprocessed to drop NaNs as before\n",
        "real_PM2 = dataset_test['PM2.5'].values[-len(pred_PM2):]  # Make sure to align the lengths\n",
        "\n",
        "# Ensure real_PM2 is properly shaped for comparison\n",
        "# If necessary, reshape it (though it should already be a 1D array matching pred_PM2_inverse in length)\n",
        "real_PM2 = real_PM2.reshape(-1, 1)  # Only needed if real_PM2 isn't already a 1D array\n",
        "\n",
        "# Now proceed with RMSE calculation\n",
        "RMSE = np.sqrt(np.mean((pred_PM2_inverse - real_PM2.ravel())**2))  # Use ravel() to ensure it's 1D for calculation\n",
        "print(\"RMSE:\", RMSE)\n"
      ],
      "metadata": {
        "colab": {
          "base_uri": "https://localhost:8080/"
        },
        "id": "pLomfcSPCLDu",
        "outputId": "2511cd21-44c8-4268-cf01-5ccb103fce33"
      },
      "execution_count": null,
      "outputs": [
        {
          "output_type": "stream",
          "name": "stdout",
          "text": [
            "RMSE: 20.55670872263981\n"
          ]
        }
      ]
    },
    {
      "cell_type": "code",
      "source": [
        "from sklearn.metrics import mean_squared_error, mean_absolute_error, r2_score\n",
        "\n",
        "# Calculate RMSE\n",
        "rmse = np.sqrt(mean_squared_error(real_PM2, pred_PM2_inverse))\n",
        "\n",
        "# Calculate MAE\n",
        "mae = mean_absolute_error(real_PM2, pred_PM2_inverse)\n",
        "\n",
        "# Calculate MSE\n",
        "mse = mean_squared_error(real_PM2, pred_PM2_inverse)\n",
        "\n",
        "# Calculate MAPE - Note: You have to ensure real_PM2 does not contain zeros to avoid division by zero\n",
        "mape = np.mean(np.abs((real_PM2 - pred_PM2_inverse) / real_PM2)) * 100\n",
        "\n",
        "# Calculate R-squared\n",
        "r2 = r2_score(real_PM2, pred_PM2_inverse)\n",
        "\n",
        "# Print the results\n",
        "print('RMSE: {:.4f}'.format(rmse))\n",
        "print('MAE: {:.4f}'.format(mae))\n",
        "print('MSE: {:.4f}'.format(mse))\n",
        "print('MAPE: {:.4f}%'.format(mape))\n",
        "print('R-squared: {:.4f}'.format(r2))"
      ],
      "metadata": {
        "colab": {
          "base_uri": "https://localhost:8080/"
        },
        "id": "bO-H_r7m5n-G",
        "outputId": "d443d856-e800-444a-8e0b-7fcb5af45574"
      },
      "execution_count": null,
      "outputs": [
        {
          "output_type": "stream",
          "name": "stdout",
          "text": [
            "RMSE: 20.5567\n",
            "MAE: 11.9333\n",
            "MSE: 422.5783\n",
            "MAPE: 308.8530%\n",
            "R-squared: 0.9413\n"
          ]
        }
      ]
    },
    {
      "cell_type": "code",
      "metadata": {
        "id": "8OUI8U49k9tH",
        "colab": {
          "base_uri": "https://localhost:8080/",
          "height": 472
        },
        "outputId": "9768be04-b46f-412c-a4e7-6b4bb40afa74"
      },
      "source": [
        "plt.plot(real_PM2, color = 'red', label = 'Real')\n",
        "plt.plot(pred_PM2_inverse, color = 'blue', label = 'Predicted')\n",
        "plt.title('Prediction-BI LSTM')\n",
        "plt.xlabel('Time')\n",
        "plt.ylabel('Air-Polution')\n",
        "plt.legend()\n",
        "plt.show()"
      ],
      "execution_count": null,
      "outputs": [
        {
          "output_type": "display_data",
          "data": {
            "text/plain": [
              "<Figure size 640x480 with 1 Axes>"
            ],
            "image/png": "[encoded data removed]"
          },
          "metadata": {}
        }
      ]
    }
  ]
}